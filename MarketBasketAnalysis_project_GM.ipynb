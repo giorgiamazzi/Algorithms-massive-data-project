{
  "nbformat": 4,
  "nbformat_minor": 0,
  "metadata": {
    "colab": {
      "name": "MarketBasketAnalysis project - GM.ipynb",
      "provenance": [],
      "collapsed_sections": [],
      "include_colab_link": true
    },
    "kernelspec": {
      "display_name": "Python 3",
      "name": "python3"
    },
    "language_info": {
      "name": "python"
    }
  },
  "cells": [
    {
      "cell_type": "markdown",
      "metadata": {
        "id": "view-in-github",
        "colab_type": "text"
      },
      "source": [
        "<a href=\"https://colab.research.google.com/github/giorgiamazzi/Algorithms-massive-data-project/blob/main/MarketBasketAnalysis_project_GM.ipynb\" target=\"_parent\"><img src=\"https://colab.research.google.com/assets/colab-badge.svg\" alt=\"Open In Colab\"/></a>"
      ]
    },
    {
      "cell_type": "markdown",
      "metadata": {
        "id": "GF8lF9yf8ill"
      },
      "source": [
        "Algorithms for Massive Dataset Project\n",
        "\n",
        "---\n",
        "\n",
        "\n",
        "Giorgia Mazzi"
      ]
    },
    {
      "cell_type": "markdown",
      "metadata": {
        "id": "YTKhy25NA0Gx"
      },
      "source": [
        " **Load** the **dataset** from **Kaggle** "
      ]
    },
    {
      "cell_type": "code",
      "metadata": {
        "colab": {
          "resources": {
            "http://localhost:8080/nbextensions/google.colab/files.js": {
              "data": "Ly8gQ29weXJpZ2h0IDIwMTcgR29vZ2xlIExMQwovLwovLyBMaWNlbnNlZCB1bmRlciB0aGUgQXBhY2hlIExpY2Vuc2UsIFZlcnNpb24gMi4wICh0aGUgIkxpY2Vuc2UiKTsKLy8geW91IG1heSBub3QgdXNlIHRoaXMgZmlsZSBleGNlcHQgaW4gY29tcGxpYW5jZSB3aXRoIHRoZSBMaWNlbnNlLgovLyBZb3UgbWF5IG9idGFpbiBhIGNvcHkgb2YgdGhlIExpY2Vuc2UgYXQKLy8KLy8gICAgICBodHRwOi8vd3d3LmFwYWNoZS5vcmcvbGljZW5zZXMvTElDRU5TRS0yLjAKLy8KLy8gVW5sZXNzIHJlcXVpcmVkIGJ5IGFwcGxpY2FibGUgbGF3IG9yIGFncmVlZCB0byBpbiB3cml0aW5nLCBzb2Z0d2FyZQovLyBkaXN0cmlidXRlZCB1bmRlciB0aGUgTGljZW5zZSBpcyBkaXN0cmlidXRlZCBvbiBhbiAiQVMgSVMiIEJBU0lTLAovLyBXSVRIT1VUIFdBUlJBTlRJRVMgT1IgQ09ORElUSU9OUyBPRiBBTlkgS0lORCwgZWl0aGVyIGV4cHJlc3Mgb3IgaW1wbGllZC4KLy8gU2VlIHRoZSBMaWNlbnNlIGZvciB0aGUgc3BlY2lmaWMgbGFuZ3VhZ2UgZ292ZXJuaW5nIHBlcm1pc3Npb25zIGFuZAovLyBsaW1pdGF0aW9ucyB1bmRlciB0aGUgTGljZW5zZS4KCi8qKgogKiBAZmlsZW92ZXJ2aWV3IEhlbHBlcnMgZm9yIGdvb2dsZS5jb2xhYiBQeXRob24gbW9kdWxlLgogKi8KKGZ1bmN0aW9uKHNjb3BlKSB7CmZ1bmN0aW9uIHNwYW4odGV4dCwgc3R5bGVBdHRyaWJ1dGVzID0ge30pIHsKICBjb25zdCBlbGVtZW50ID0gZG9jdW1lbnQuY3JlYXRlRWxlbWVudCgnc3BhbicpOwogIGVsZW1lbnQudGV4dENvbnRlbnQgPSB0ZXh0OwogIGZvciAoY29uc3Qga2V5IG9mIE9iamVjdC5rZXlzKHN0eWxlQXR0cmlidXRlcykpIHsKICAgIGVsZW1lbnQuc3R5bGVba2V5XSA9IHN0eWxlQXR0cmlidXRlc1trZXldOwogIH0KICByZXR1cm4gZWxlbWVudDsKfQoKLy8gTWF4IG51bWJlciBvZiBieXRlcyB3aGljaCB3aWxsIGJlIHVwbG9hZGVkIGF0IGEgdGltZS4KY29uc3QgTUFYX1BBWUxPQURfU0laRSA9IDEwMCAqIDEwMjQ7CgpmdW5jdGlvbiBfdXBsb2FkRmlsZXMoaW5wdXRJZCwgb3V0cHV0SWQpIHsKICBjb25zdCBzdGVwcyA9IHVwbG9hZEZpbGVzU3RlcChpbnB1dElkLCBvdXRwdXRJZCk7CiAgY29uc3Qgb3V0cHV0RWxlbWVudCA9IGRvY3VtZW50LmdldEVsZW1lbnRCeUlkKG91dHB1dElkKTsKICAvLyBDYWNoZSBzdGVwcyBvbiB0aGUgb3V0cHV0RWxlbWVudCB0byBtYWtlIGl0IGF2YWlsYWJsZSBmb3IgdGhlIG5leHQgY2FsbAogIC8vIHRvIHVwbG9hZEZpbGVzQ29udGludWUgZnJvbSBQeXRob24uCiAgb3V0cHV0RWxlbWVudC5zdGVwcyA9IHN0ZXBzOwoKICByZXR1cm4gX3VwbG9hZEZpbGVzQ29udGludWUob3V0cHV0SWQpOwp9CgovLyBUaGlzIGlzIHJvdWdobHkgYW4gYXN5bmMgZ2VuZXJhdG9yIChub3Qgc3VwcG9ydGVkIGluIHRoZSBicm93c2VyIHlldCksCi8vIHdoZXJlIHRoZXJlIGFyZSBtdWx0aXBsZSBhc3luY2hyb25vdXMgc3RlcHMgYW5kIHRoZSBQeXRob24gc2lkZSBpcyBnb2luZwovLyB0byBwb2xsIGZvciBjb21wbGV0aW9uIG9mIGVhY2ggc3RlcC4KLy8gVGhpcyB1c2VzIGEgUHJvbWlzZSB0byBibG9jayB0aGUgcHl0aG9uIHNpZGUgb24gY29tcGxldGlvbiBvZiBlYWNoIHN0ZXAsCi8vIHRoZW4gcGFzc2VzIHRoZSByZXN1bHQgb2YgdGhlIHByZXZpb3VzIHN0ZXAgYXMgdGhlIGlucHV0IHRvIHRoZSBuZXh0IHN0ZXAuCmZ1bmN0aW9uIF91cGxvYWRGaWxlc0NvbnRpbnVlKG91dHB1dElkKSB7CiAgY29uc3Qgb3V0cHV0RWxlbWVudCA9IGRvY3VtZW50LmdldEVsZW1lbnRCeUlkKG91dHB1dElkKTsKICBjb25zdCBzdGVwcyA9IG91dHB1dEVsZW1lbnQuc3RlcHM7CgogIGNvbnN0IG5leHQgPSBzdGVwcy5uZXh0KG91dHB1dEVsZW1lbnQubGFzdFByb21pc2VWYWx1ZSk7CiAgcmV0dXJuIFByb21pc2UucmVzb2x2ZShuZXh0LnZhbHVlLnByb21pc2UpLnRoZW4oKHZhbHVlKSA9PiB7CiAgICAvLyBDYWNoZSB0aGUgbGFzdCBwcm9taXNlIHZhbHVlIHRvIG1ha2UgaXQgYXZhaWxhYmxlIHRvIHRoZSBuZXh0CiAgICAvLyBzdGVwIG9mIHRoZSBnZW5lcmF0b3IuCiAgICBvdXRwdXRFbGVtZW50Lmxhc3RQcm9taXNlVmFsdWUgPSB2YWx1ZTsKICAgIHJldHVybiBuZXh0LnZhbHVlLnJlc3BvbnNlOwogIH0pOwp9CgovKioKICogR2VuZXJhdG9yIGZ1bmN0aW9uIHdoaWNoIGlzIGNhbGxlZCBiZXR3ZWVuIGVhY2ggYXN5bmMgc3RlcCBvZiB0aGUgdXBsb2FkCiAqIHByb2Nlc3MuCiAqIEBwYXJhbSB7c3RyaW5nfSBpbnB1dElkIEVsZW1lbnQgSUQgb2YgdGhlIGlucHV0IGZpbGUgcGlja2VyIGVsZW1lbnQuCiAqIEBwYXJhbSB7c3RyaW5nfSBvdXRwdXRJZCBFbGVtZW50IElEIG9mIHRoZSBvdXRwdXQgZGlzcGxheS4KICogQHJldHVybiB7IUl0ZXJhYmxlPCFPYmplY3Q+fSBJdGVyYWJsZSBvZiBuZXh0IHN0ZXBzLgogKi8KZnVuY3Rpb24qIHVwbG9hZEZpbGVzU3RlcChpbnB1dElkLCBvdXRwdXRJZCkgewogIGNvbnN0IGlucHV0RWxlbWVudCA9IGRvY3VtZW50LmdldEVsZW1lbnRCeUlkKGlucHV0SWQpOwogIGlucHV0RWxlbWVudC5kaXNhYmxlZCA9IGZhbHNlOwoKICBjb25zdCBvdXRwdXRFbGVtZW50ID0gZG9jdW1lbnQuZ2V0RWxlbWVudEJ5SWQob3V0cHV0SWQpOwogIG91dHB1dEVsZW1lbnQuaW5uZXJIVE1MID0gJyc7CgogIGNvbnN0IHBpY2tlZFByb21pc2UgPSBuZXcgUHJvbWlzZSgocmVzb2x2ZSkgPT4gewogICAgaW5wdXRFbGVtZW50LmFkZEV2ZW50TGlzdGVuZXIoJ2NoYW5nZScsIChlKSA9PiB7CiAgICAgIHJlc29sdmUoZS50YXJnZXQuZmlsZXMpOwogICAgfSk7CiAgfSk7CgogIGNvbnN0IGNhbmNlbCA9IGRvY3VtZW50LmNyZWF0ZUVsZW1lbnQoJ2J1dHRvbicpOwogIGlucHV0RWxlbWVudC5wYXJlbnRFbGVtZW50LmFwcGVuZENoaWxkKGNhbmNlbCk7CiAgY2FuY2VsLnRleHRDb250ZW50ID0gJ0NhbmNlbCB1cGxvYWQnOwogIGNvbnN0IGNhbmNlbFByb21pc2UgPSBuZXcgUHJvbWlzZSgocmVzb2x2ZSkgPT4gewogICAgY2FuY2VsLm9uY2xpY2sgPSAoKSA9PiB7CiAgICAgIHJlc29sdmUobnVsbCk7CiAgICB9OwogIH0pOwoKICAvLyBXYWl0IGZvciB0aGUgdXNlciB0byBwaWNrIHRoZSBmaWxlcy4KICBjb25zdCBmaWxlcyA9IHlpZWxkIHsKICAgIHByb21pc2U6IFByb21pc2UucmFjZShbcGlja2VkUHJvbWlzZSwgY2FuY2VsUHJvbWlzZV0pLAogICAgcmVzcG9uc2U6IHsKICAgICAgYWN0aW9uOiAnc3RhcnRpbmcnLAogICAgfQogIH07CgogIGNhbmNlbC5yZW1vdmUoKTsKCiAgLy8gRGlzYWJsZSB0aGUgaW5wdXQgZWxlbWVudCBzaW5jZSBmdXJ0aGVyIHBpY2tzIGFyZSBub3QgYWxsb3dlZC4KICBpbnB1dEVsZW1lbnQuZGlzYWJsZWQgPSB0cnVlOwoKICBpZiAoIWZpbGVzKSB7CiAgICByZXR1cm4gewogICAgICByZXNwb25zZTogewogICAgICAgIGFjdGlvbjogJ2NvbXBsZXRlJywKICAgICAgfQogICAgfTsKICB9CgogIGZvciAoY29uc3QgZmlsZSBvZiBmaWxlcykgewogICAgY29uc3QgbGkgPSBkb2N1bWVudC5jcmVhdGVFbGVtZW50KCdsaScpOwogICAgbGkuYXBwZW5kKHNwYW4oZmlsZS5uYW1lLCB7Zm9udFdlaWdodDogJ2JvbGQnfSkpOwogICAgbGkuYXBwZW5kKHNwYW4oCiAgICAgICAgYCgke2ZpbGUudHlwZSB8fCAnbi9hJ30pIC0gJHtmaWxlLnNpemV9IGJ5dGVzLCBgICsKICAgICAgICBgbGFzdCBtb2RpZmllZDogJHsKICAgICAgICAgICAgZmlsZS5sYXN0TW9kaWZpZWREYXRlID8gZmlsZS5sYXN0TW9kaWZpZWREYXRlLnRvTG9jYWxlRGF0ZVN0cmluZygpIDoKICAgICAgICAgICAgICAgICAgICAgICAgICAgICAgICAgICAgJ24vYSd9IC0gYCkpOwogICAgY29uc3QgcGVyY2VudCA9IHNwYW4oJzAlIGRvbmUnKTsKICAgIGxpLmFwcGVuZENoaWxkKHBlcmNlbnQpOwoKICAgIG91dHB1dEVsZW1lbnQuYXBwZW5kQ2hpbGQobGkpOwoKICAgIGNvbnN0IGZpbGVEYXRhUHJvbWlzZSA9IG5ldyBQcm9taXNlKChyZXNvbHZlKSA9PiB7CiAgICAgIGNvbnN0IHJlYWRlciA9IG5ldyBGaWxlUmVhZGVyKCk7CiAgICAgIHJlYWRlci5vbmxvYWQgPSAoZSkgPT4gewogICAgICAgIHJlc29sdmUoZS50YXJnZXQucmVzdWx0KTsKICAgICAgfTsKICAgICAgcmVhZGVyLnJlYWRBc0FycmF5QnVmZmVyKGZpbGUpOwogICAgfSk7CiAgICAvLyBXYWl0IGZvciB0aGUgZGF0YSB0byBiZSByZWFkeS4KICAgIGxldCBmaWxlRGF0YSA9IHlpZWxkIHsKICAgICAgcHJvbWlzZTogZmlsZURhdGFQcm9taXNlLAogICAgICByZXNwb25zZTogewogICAgICAgIGFjdGlvbjogJ2NvbnRpbnVlJywKICAgICAgfQogICAgfTsKCiAgICAvLyBVc2UgYSBjaHVua2VkIHNlbmRpbmcgdG8gYXZvaWQgbWVzc2FnZSBzaXplIGxpbWl0cy4gU2VlIGIvNjIxMTU2NjAuCiAgICBsZXQgcG9zaXRpb24gPSAwOwogICAgZG8gewogICAgICBjb25zdCBsZW5ndGggPSBNYXRoLm1pbihmaWxlRGF0YS5ieXRlTGVuZ3RoIC0gcG9zaXRpb24sIE1BWF9QQVlMT0FEX1NJWkUpOwogICAgICBjb25zdCBjaHVuayA9IG5ldyBVaW50OEFycmF5KGZpbGVEYXRhLCBwb3NpdGlvbiwgbGVuZ3RoKTsKICAgICAgcG9zaXRpb24gKz0gbGVuZ3RoOwoKICAgICAgY29uc3QgYmFzZTY0ID0gYnRvYShTdHJpbmcuZnJvbUNoYXJDb2RlLmFwcGx5KG51bGwsIGNodW5rKSk7CiAgICAgIHlpZWxkIHsKICAgICAgICByZXNwb25zZTogewogICAgICAgICAgYWN0aW9uOiAnYXBwZW5kJywKICAgICAgICAgIGZpbGU6IGZpbGUubmFtZSwKICAgICAgICAgIGRhdGE6IGJhc2U2NCwKICAgICAgICB9LAogICAgICB9OwoKICAgICAgbGV0IHBlcmNlbnREb25lID0gZmlsZURhdGEuYnl0ZUxlbmd0aCA9PT0gMCA/CiAgICAgICAgICAxMDAgOgogICAgICAgICAgTWF0aC5yb3VuZCgocG9zaXRpb24gLyBmaWxlRGF0YS5ieXRlTGVuZ3RoKSAqIDEwMCk7CiAgICAgIHBlcmNlbnQudGV4dENvbnRlbnQgPSBgJHtwZXJjZW50RG9uZX0lIGRvbmVgOwoKICAgIH0gd2hpbGUgKHBvc2l0aW9uIDwgZmlsZURhdGEuYnl0ZUxlbmd0aCk7CiAgfQoKICAvLyBBbGwgZG9uZS4KICB5aWVsZCB7CiAgICByZXNwb25zZTogewogICAgICBhY3Rpb246ICdjb21wbGV0ZScsCiAgICB9CiAgfTsKfQoKc2NvcGUuZ29vZ2xlID0gc2NvcGUuZ29vZ2xlIHx8IHt9OwpzY29wZS5nb29nbGUuY29sYWIgPSBzY29wZS5nb29nbGUuY29sYWIgfHwge307CnNjb3BlLmdvb2dsZS5jb2xhYi5fZmlsZXMgPSB7CiAgX3VwbG9hZEZpbGVzLAogIF91cGxvYWRGaWxlc0NvbnRpbnVlLAp9Owp9KShzZWxmKTsK",
              "ok": true,
              "headers": [
                [
                  "content-type",
                  "application/javascript"
                ]
              ],
              "status": 200,
              "status_text": ""
            }
          },
          "base_uri": "https://localhost:8080/",
          "height": 89
        },
        "id": "nxgr_NTLaG5X",
        "outputId": "4ca5bfab-09b0-438b-9363-31aa22f1fe6a"
      },
      "source": [
        "from google.colab import files #upload kaggle.json, containing API\n",
        "files.upload()"
      ],
      "execution_count": null,
      "outputs": [
        {
          "output_type": "display_data",
          "data": {
            "text/html": [
              "\n",
              "     <input type=\"file\" id=\"files-8edb700f-397e-44dc-961b-abefff1cb6f9\" name=\"files[]\" multiple disabled\n",
              "        style=\"border:none\" />\n",
              "     <output id=\"result-8edb700f-397e-44dc-961b-abefff1cb6f9\">\n",
              "      Upload widget is only available when the cell has been executed in the\n",
              "      current browser session. Please rerun this cell to enable.\n",
              "      </output>\n",
              "      <script src=\"/nbextensions/google.colab/files.js\"></script> "
            ],
            "text/plain": [
              "<IPython.core.display.HTML object>"
            ]
          },
          "metadata": {}
        },
        {
          "output_type": "stream",
          "name": "stdout",
          "text": [
            "Saving kaggle.json to kaggle.json\n"
          ]
        },
        {
          "output_type": "execute_result",
          "data": {
            "text/plain": [
              "{'kaggle.json': b'{\"username\":\"giorgiamazzi\",\"key\":\"3e4bdd6972758babbb3327722d0f1f60\"}'}"
            ]
          },
          "metadata": {},
          "execution_count": 1
        }
      ]
    },
    {
      "cell_type": "code",
      "metadata": {
        "id": "lzjF6TngaKyn"
      },
      "source": [
        "! pip install -q kaggle "
      ],
      "execution_count": null,
      "outputs": []
    },
    {
      "cell_type": "code",
      "metadata": {
        "id": "J95F7hN8aQcZ"
      },
      "source": [
        "! mkdir -p ~/.kaggle #make directory with name Kaggle"
      ],
      "execution_count": null,
      "outputs": []
    },
    {
      "cell_type": "code",
      "metadata": {
        "id": "TXuJvm4Wac44"
      },
      "source": [
        "! mv kaggle.json ~/.kaggle/ #move json file into the directory created"
      ],
      "execution_count": null,
      "outputs": []
    },
    {
      "cell_type": "code",
      "metadata": {
        "id": "ByzPv4zzbHuz"
      },
      "source": [
        "! chmod 600 ~/.kaggle/kaggle.json #give permission to this file"
      ],
      "execution_count": null,
      "outputs": []
    },
    {
      "cell_type": "code",
      "metadata": {
        "colab": {
          "base_uri": "https://localhost:8080/"
        },
        "id": "EPypt0UbbLcd",
        "outputId": "f75c4c81-318b-47b3-efd0-e0b1d0b4fec2"
      },
      "source": [
        "! kaggle datasets download -d ashirwadsangwan/imdb-dataset"
      ],
      "execution_count": null,
      "outputs": [
        {
          "output_type": "stream",
          "name": "stdout",
          "text": [
            "Downloading imdb-dataset.zip to /content\n",
            "100% 1.44G/1.44G [00:15<00:00, 125MB/s]\n",
            "100% 1.44G/1.44G [00:15<00:00, 100MB/s]\n"
          ]
        }
      ]
    },
    {
      "cell_type": "code",
      "metadata": {
        "colab": {
          "base_uri": "https://localhost:8080/"
        },
        "id": "4SaA7VbCbNLI",
        "outputId": "fa1a035a-015b-46cc-bb8c-1d6a5e4a8312"
      },
      "source": [
        "!unzip imdb-dataset.zip"
      ],
      "execution_count": null,
      "outputs": [
        {
          "output_type": "stream",
          "name": "stdout",
          "text": [
            "Archive:  imdb-dataset.zip\n",
            "  inflating: name.basics.tsv.gz      \n",
            "  inflating: name.basics.tsv/name.basics.tsv  \n",
            "  inflating: title.akas.tsv.gz       \n",
            "  inflating: title.akas.tsv/title.akas.tsv  \n",
            "  inflating: title.basics.tsv.gz     \n",
            "  inflating: title.basics.tsv/title.basics.tsv  \n",
            "  inflating: title.principals.tsv.gz  \n",
            "  inflating: title.principals.tsv/title.principals.tsv  \n",
            "  inflating: title.ratings.tsv.gz    \n",
            "  inflating: title.ratings.tsv/title.ratings.tsv  \n"
          ]
        }
      ]
    },
    {
      "cell_type": "markdown",
      "metadata": {
        "id": "83XC29tMAF-y"
      },
      "source": [
        "**Spark** Setup"
      ]
    },
    {
      "cell_type": "code",
      "metadata": {
        "id": "-Nl1voU6Bqs5"
      },
      "source": [
        "!apt-get install openjdk-8-jdk-headless -qq > /dev/null  #install Java\n",
        "!wget -q https://apache.osuosl.org/spark/spark-3.2.0/spark-3.2.0-bin-hadoop2.7.tgz #download spark3.0 with hadoop\n",
        "!tar xf spark-3.2.0-bin-hadoop2.7.tgz #unzip folder"
      ],
      "execution_count": null,
      "outputs": []
    },
    {
      "cell_type": "code",
      "metadata": {
        "id": "K4Z9jbHDKWSs"
      },
      "source": [
        "!pip install -q findspark #locate Spark on the system\n",
        "import findspark\n",
        "findspark.init(\"spark-3.2.0-bin-hadoop2.7\")"
      ],
      "execution_count": null,
      "outputs": []
    },
    {
      "cell_type": "code",
      "metadata": {
        "id": "NyuxefEsCVEY"
      },
      "source": [
        "import os\n",
        "os.environ[\"JAVA_HOME\"] = \"/usr/lib/jvm/java-8-openjdk-amd64\" #set the environmental path that will enable to run Pyspark\n",
        "os.environ[\"SPARK_HOME\"] = \"/content/spark-3.2.0-bin-hadoop2.7\""
      ],
      "execution_count": null,
      "outputs": []
    },
    {
      "cell_type": "code",
      "metadata": {
        "id": "1smqNjK3CtTh",
        "colab": {
          "base_uri": "https://localhost:8080/"
        },
        "outputId": "01d18fda-1225-4583-b870-fb8cd3086342"
      },
      "source": [
        "!pip install pyspark\n",
        "import pyspark\n",
        "from pyspark import SparkConf, SparkContext\n",
        "from pyspark.sql import SparkSession"
      ],
      "execution_count": null,
      "outputs": [
        {
          "output_type": "stream",
          "name": "stdout",
          "text": [
            "Collecting pyspark\n",
            "  Downloading pyspark-3.2.0.tar.gz (281.3 MB)\n",
            "\u001b[K     |████████████████████████████████| 281.3 MB 40 kB/s \n",
            "\u001b[?25hCollecting py4j==0.10.9.2\n",
            "  Downloading py4j-0.10.9.2-py2.py3-none-any.whl (198 kB)\n",
            "\u001b[K     |████████████████████████████████| 198 kB 64.5 MB/s \n",
            "\u001b[?25hBuilding wheels for collected packages: pyspark\n",
            "  Building wheel for pyspark (setup.py) ... \u001b[?25l\u001b[?25hdone\n",
            "  Created wheel for pyspark: filename=pyspark-3.2.0-py2.py3-none-any.whl size=281805912 sha256=15e9ac458015dfd13e9381a03b713325f27af597b9de207bb04ce301478fbeaf\n",
            "  Stored in directory: /root/.cache/pip/wheels/0b/de/d2/9be5d59d7331c6c2a7c1b6d1a4f463ce107332b1ecd4e80718\n",
            "Successfully built pyspark\n",
            "Installing collected packages: py4j, pyspark\n",
            "Successfully installed py4j-0.10.9.2 pyspark-3.2.0\n"
          ]
        }
      ]
    },
    {
      "cell_type": "code",
      "metadata": {
        "id": "UdcjvtPWrDh-"
      },
      "source": [
        "spark = SparkSession.builder.getOrCreate()"
      ],
      "execution_count": null,
      "outputs": []
    },
    {
      "cell_type": "code",
      "metadata": {
        "id": "7Yr9dlO6ro-Z"
      },
      "source": [
        "sc = spark.sparkContext "
      ],
      "execution_count": null,
      "outputs": []
    },
    {
      "cell_type": "code",
      "metadata": {
        "id": "IgWrVM9XiK0U",
        "colab": {
          "base_uri": "https://localhost:8080/"
        },
        "outputId": "82dd7426-a0c2-40fe-8283-cb8d7726f1a0"
      },
      "source": [
        "!pip install python-utils\n",
        "import numpy as np\n",
        "import pandas as pd\n",
        "import seaborn as sns"
      ],
      "execution_count": null,
      "outputs": [
        {
          "output_type": "stream",
          "name": "stdout",
          "text": [
            "Requirement already satisfied: python-utils in /usr/local/lib/python3.7/dist-packages (2.5.6)\n",
            "Requirement already satisfied: six in /usr/local/lib/python3.7/dist-packages (from python-utils) (1.15.0)\n"
          ]
        }
      ]
    },
    {
      "cell_type": "markdown",
      "metadata": {
        "id": "gG9vilLQIezP"
      },
      "source": [
        "**Dataset Inspection**\n"
      ]
    },
    {
      "cell_type": "markdown",
      "metadata": {
        "id": "ZMr_IabAJDyg"
      },
      "source": [
        "Tables' contents detailed\n",
        "[url of dataset](https://www.kaggle.com/ashirwadsangwan/imdb-dataset)\n"
      ]
    },
    {
      "cell_type": "code",
      "metadata": {
        "id": "Hdv-C0pMJimu"
      },
      "source": [
        "infofornames = spark.read.csv(\"/content/name.basics.tsv\", sep=r'\\t', header=True)\n",
        "infotitleakas = spark.read.csv(\"/content/title.akas.tsv\", sep=r'\\t', header=True)\n",
        "infotitlebasics = spark.read.csv(\"/content/title.basics.tsv\", sep=r'\\t', header=True)\n",
        "castpertitles = spark.read.csv(\"/content/title.principals.tsv\", sep=r'\\t', header=True)\n",
        "ratingandvotes = spark.read.csv(\"/content/title.ratings.tsv\", sep=r'\\t', header=True)"
      ],
      "execution_count": null,
      "outputs": []
    },
    {
      "cell_type": "code",
      "metadata": {
        "id": "S1knRjNCUqWG"
      },
      "source": [
        "infofornames.createOrReplaceTempView(\"infofornames\")\n",
        "infotitleakas.createOrReplaceTempView(\"infotitleakas\")\n",
        "infotitlebasics.createOrReplaceTempView(\"infotitlebasics\")\n",
        "castpertitles.createOrReplaceTempView(\"castpertitles\")\n",
        "ratingandvotes.createOrReplaceTempView(\"ratingandvotes\")"
      ],
      "execution_count": null,
      "outputs": []
    },
    {
      "cell_type": "code",
      "metadata": {
        "id": "R6KITOiHTlHq",
        "colab": {
          "base_uri": "https://localhost:8080/"
        },
        "outputId": "be2eb827-f77a-438d-ce13-066f581b3ff4"
      },
      "source": [
        "infofornames.show(5)"
      ],
      "execution_count": null,
      "outputs": [
        {
          "output_type": "stream",
          "name": "stdout",
          "text": [
            "+---------+---------------+---------+---------+--------------------+--------------------+\n",
            "|   nconst|    primaryName|birthYear|deathYear|   primaryProfession|      knownForTitles|\n",
            "+---------+---------------+---------+---------+--------------------+--------------------+\n",
            "|nm0000001|   Fred Astaire|     1899|     1987|soundtrack,actor,...|tt0050419,tt00531...|\n",
            "|nm0000002|  Lauren Bacall|     1924|     2014|  actress,soundtrack|tt0071877,tt01170...|\n",
            "|nm0000003|Brigitte Bardot|     1934|       \\N|actress,soundtrac...|tt0054452,tt00491...|\n",
            "|nm0000004|   John Belushi|     1949|     1982|actor,writer,soun...|tt0077975,tt00725...|\n",
            "|nm0000005| Ingmar Bergman|     1918|     2007|writer,director,a...|tt0069467,tt00509...|\n",
            "+---------+---------------+---------+---------+--------------------+--------------------+\n",
            "only showing top 5 rows\n",
            "\n"
          ]
        }
      ]
    },
    {
      "cell_type": "code",
      "metadata": {
        "id": "H4K1flYdTlN_",
        "colab": {
          "base_uri": "https://localhost:8080/"
        },
        "outputId": "adac34aa-47ad-4def-837f-783eb91f7738"
      },
      "source": [
        "infotitleakas.show(5)"
      ],
      "execution_count": null,
      "outputs": [
        {
          "output_type": "stream",
          "name": "stdout",
          "text": [
            "+---------+--------+--------------------+------+--------+-----------+----------+---------------+\n",
            "|  titleId|ordering|               title|region|language|      types|attributes|isOriginalTitle|\n",
            "+---------+--------+--------------------+------+--------+-----------+----------+---------------+\n",
            "|tt0000001|       1|Carmencita - span...|    HU|      \\N|imdbDisplay|        \\N|              0|\n",
            "|tt0000001|       2|          Καρμενσίτα|    GR|      \\N|         \\N|        \\N|              0|\n",
            "|tt0000001|       3|          Карменсита|    RU|      \\N|         \\N|        \\N|              0|\n",
            "|tt0000001|       4|          Carmencita|    US|      \\N|         \\N|        \\N|              0|\n",
            "|tt0000001|       5|          Carmencita|    \\N|      \\N|   original|        \\N|              1|\n",
            "+---------+--------+--------------------+------+--------+-----------+----------+---------------+\n",
            "only showing top 5 rows\n",
            "\n"
          ]
        }
      ]
    },
    {
      "cell_type": "code",
      "metadata": {
        "id": "3c_WZi2EUK1p",
        "colab": {
          "base_uri": "https://localhost:8080/"
        },
        "outputId": "aa6e601c-3f41-4e37-bd02-6740c2f97052"
      },
      "source": [
        "infotitlebasics.show(5)"
      ],
      "execution_count": null,
      "outputs": [
        {
          "output_type": "stream",
          "name": "stdout",
          "text": [
            "+---------+---------+--------------------+--------------------+-------+---------+-------+--------------+--------------------+\n",
            "|   tconst|titleType|        primaryTitle|       originalTitle|isAdult|startYear|endYear|runtimeMinutes|              genres|\n",
            "+---------+---------+--------------------+--------------------+-------+---------+-------+--------------+--------------------+\n",
            "|tt0000001|    short|          Carmencita|          Carmencita|      0|     1894|     \\N|             1|   Documentary,Short|\n",
            "|tt0000002|    short|Le clown et ses c...|Le clown et ses c...|      0|     1892|     \\N|             5|     Animation,Short|\n",
            "|tt0000003|    short|      Pauvre Pierrot|      Pauvre Pierrot|      0|     1892|     \\N|             4|Animation,Comedy,...|\n",
            "|tt0000004|    short|         Un bon bock|         Un bon bock|      0|     1892|     \\N|            \\N|     Animation,Short|\n",
            "|tt0000005|    short|    Blacksmith Scene|    Blacksmith Scene|      0|     1893|     \\N|             1|        Comedy,Short|\n",
            "+---------+---------+--------------------+--------------------+-------+---------+-------+--------------+--------------------+\n",
            "only showing top 5 rows\n",
            "\n"
          ]
        }
      ]
    },
    {
      "cell_type": "code",
      "metadata": {
        "id": "fr0AU59BUOTh",
        "colab": {
          "base_uri": "https://localhost:8080/"
        },
        "outputId": "9be1f890-eb52-4922-b53c-398a37534df6"
      },
      "source": [
        "castpertitles.show(5)"
      ],
      "execution_count": null,
      "outputs": [
        {
          "output_type": "stream",
          "name": "stdout",
          "text": [
            "+---------+--------+---------+---------------+--------------------+-----------+\n",
            "|   tconst|ordering|   nconst|       category|                 job| characters|\n",
            "+---------+--------+---------+---------------+--------------------+-----------+\n",
            "|tt0000001|       1|nm1588970|           self|                  \\N|[\"Herself\"]|\n",
            "|tt0000001|       2|nm0005690|       director|                  \\N|         \\N|\n",
            "|tt0000001|       3|nm0374658|cinematographer|director of photo...|         \\N|\n",
            "|tt0000002|       1|nm0721526|       director|                  \\N|         \\N|\n",
            "|tt0000002|       2|nm1335271|       composer|                  \\N|         \\N|\n",
            "+---------+--------+---------+---------------+--------------------+-----------+\n",
            "only showing top 5 rows\n",
            "\n"
          ]
        }
      ]
    },
    {
      "cell_type": "code",
      "metadata": {
        "id": "FMndt0zWUTNq",
        "colab": {
          "base_uri": "https://localhost:8080/"
        },
        "outputId": "0f82740e-5e06-4c74-ab7d-ad31fded9f38"
      },
      "source": [
        "ratingandvotes.show(5)"
      ],
      "execution_count": null,
      "outputs": [
        {
          "output_type": "stream",
          "name": "stdout",
          "text": [
            "+---------+-------------+--------+\n",
            "|   tconst|averageRating|numVotes|\n",
            "+---------+-------------+--------+\n",
            "|tt0000001|          5.6|    1550|\n",
            "|tt0000002|          6.1|     186|\n",
            "|tt0000003|          6.5|    1207|\n",
            "|tt0000004|          6.2|     113|\n",
            "|tt0000005|          6.1|    1934|\n",
            "+---------+-------------+--------+\n",
            "only showing top 5 rows\n",
            "\n"
          ]
        }
      ]
    },
    {
      "cell_type": "markdown",
      "metadata": {
        "id": "rzRt6BZHYhz0"
      },
      "source": [
        "**Exploratory Data and Data Cleaning**"
      ]
    },
    {
      "cell_type": "markdown",
      "metadata": {
        "id": "LASmUUVTXI_B"
      },
      "source": [
        "For my project, i'd like to implement a system that helps us to find frequent itemsets. Market-basket model of data is a way to represent and describe relationships between objects. In this project I'll use as items (actors) and as baskets (movies). So i want to discover the most frequent actors or actress in movies.\n",
        "To do the analysis I selected only three csv provided : **infofornames**, **castpertitles**, **infotitlebasics**."
      ]
    },
    {
      "cell_type": "code",
      "metadata": {
        "id": "-M8nSb10XIoz",
        "colab": {
          "base_uri": "https://localhost:8080/"
        },
        "outputId": "146cd533-dfd3-4cb1-ca4a-c1471064a159"
      },
      "source": [
        "infofornames = infofornames.filter((infofornames.primaryProfession == 'actor')|(infofornames.primaryProfession == 'actress'))\n",
        "infofornames.show(5)"
      ],
      "execution_count": null,
      "outputs": [
        {
          "output_type": "stream",
          "name": "stdout",
          "text": [
            "+---------+-----------------+---------+---------+-----------------+--------------------+\n",
            "|   nconst|      primaryName|birthYear|deathYear|primaryProfession|      knownForTitles|\n",
            "+---------+-----------------+---------+---------+-----------------+--------------------+\n",
            "|nm0000084|          Li Gong|     1965|       \\N|          actress|tt0473444,tt01016...|\n",
            "|nm0000109|   Yasmine Bleeth|     1968|       \\N|          actress|tt0131857,tt01152...|\n",
            "|nm0000124|Jennifer Connelly|     1970|       \\N|          actress|tt0315983,tt01800...|\n",
            "|nm0000143|    Erika Eleniak|     1969|       \\N|          actress|tt0083866,tt00947...|\n",
            "|nm0000157|   Linda Hamilton|     1956|       \\N|          actress|tt0103064,tt64508...|\n",
            "+---------+-----------------+---------+---------+-----------------+--------------------+\n",
            "only showing top 5 rows\n",
            "\n"
          ]
        }
      ]
    },
    {
      "cell_type": "code",
      "metadata": {
        "id": "43OhWm6ucQwq",
        "colab": {
          "base_uri": "https://localhost:8080/"
        },
        "outputId": "4fb535bf-d270-43e9-b756-96b692edb6c7"
      },
      "source": [
        "infofornames = infofornames.select(['primaryName', 'nconst', 'primaryProfession'])\n",
        "infofornames = infofornames.withColumnRenamed(\"primaryName\", \"Name_actors\") \\\n",
        "    .withColumnRenamed(\"nconst\",\"Id_actors\") \\\n",
        "    .withColumnRenamed(\"primaryProfession\",\"role\")\n",
        "infofornames.printSchema()\n",
        "infofornames.show(5)"
      ],
      "execution_count": null,
      "outputs": [
        {
          "output_type": "stream",
          "name": "stdout",
          "text": [
            "root\n",
            " |-- Name_actors: string (nullable = true)\n",
            " |-- Id_actors: string (nullable = true)\n",
            " |-- role: string (nullable = true)\n",
            "\n",
            "+-----------------+---------+-------+\n",
            "|      Name_actors|Id_actors|   role|\n",
            "+-----------------+---------+-------+\n",
            "|          Li Gong|nm0000084|actress|\n",
            "|   Yasmine Bleeth|nm0000109|actress|\n",
            "|Jennifer Connelly|nm0000124|actress|\n",
            "|    Erika Eleniak|nm0000143|actress|\n",
            "|   Linda Hamilton|nm0000157|actress|\n",
            "+-----------------+---------+-------+\n",
            "only showing top 5 rows\n",
            "\n"
          ]
        }
      ]
    },
    {
      "cell_type": "code",
      "metadata": {
        "id": "qGB14IC9hJ4b",
        "colab": {
          "base_uri": "https://localhost:8080/"
        },
        "outputId": "efe56f3b-51d3-43a9-e00d-24e1448dfa42"
      },
      "source": [
        "spark.sql('''SELECT count(distinct(infofornames.nconst))\n",
        "              FROM infofornames\n",
        "              WHERE (infofornames.primaryProfession = 'actor') OR (infofornames.primaryProfession = 'actress')''').show() #2.914.287 actors"
      ],
      "execution_count": null,
      "outputs": [
        {
          "output_type": "stream",
          "name": "stdout",
          "text": [
            "+----------------------+\n",
            "|count(DISTINCT nconst)|\n",
            "+----------------------+\n",
            "|               2914287|\n",
            "+----------------------+\n",
            "\n"
          ]
        }
      ]
    },
    {
      "cell_type": "markdown",
      "metadata": {
        "id": "czpPhjP5GQTW"
      },
      "source": [
        "In this way I see that lots of actors that I retrieve (the actors that have played at least one time as actors), they did also other jobs in other films. "
      ]
    },
    {
      "cell_type": "code",
      "metadata": {
        "id": "G2fzg7inGpnY",
        "colab": {
          "base_uri": "https://localhost:8080/"
        },
        "outputId": "d91f7f31-fb7b-43b3-d04e-15b1dd1e42db"
      },
      "source": [
        "spark.sql('''SELECT distinct(infofornames.primaryProfession)\n",
        "              FROM infofornames''').show(20, False) "
      ],
      "execution_count": null,
      "outputs": [
        {
          "output_type": "stream",
          "name": "stdout",
          "text": [
            "+--------------------------------------------------------------+\n",
            "|primaryProfession                                             |\n",
            "+--------------------------------------------------------------+\n",
            "|actress,producer,production_manager                           |\n",
            "|producer,miscellaneous,location_management                    |\n",
            "|art_department,miscellaneous,assistant_director               |\n",
            "|actor,producer,assistant_director                             |\n",
            "|assistant_director,camera_department,transportation_department|\n",
            "|assistant_director,actress,director                           |\n",
            "|miscellaneous,actor,location_management                       |\n",
            "|miscellaneous,casting_department,actress                      |\n",
            "|cinematographer,camera_department,talent_agent                |\n",
            "|make_up_department,actor,costume_designer                     |\n",
            "|miscellaneous,camera_department,script_department             |\n",
            "|camera_department,special_effects,visual_effects              |\n",
            "|production_designer,sound_department                          |\n",
            "|director,writer,casting_director                              |\n",
            "|art_department,art_director,assistant_director                |\n",
            "|casting_department,miscellaneous,make_up_department           |\n",
            "|casting_department,actor,camera_department                    |\n",
            "|editor,producer,camera_department                             |\n",
            "|producer,director,animation_department                        |\n",
            "|sound_department,producer,assistant_director                  |\n",
            "+--------------------------------------------------------------+\n",
            "only showing top 20 rows\n",
            "\n"
          ]
        }
      ]
    },
    {
      "cell_type": "code",
      "metadata": {
        "id": "K3Wu2KDrrHnE",
        "colab": {
          "base_uri": "https://localhost:8080/"
        },
        "outputId": "8dc818f6-e045-41da-aa12-d15c32719389"
      },
      "source": [
        "spark.sql('''SELECT distinct(castpertitles.category)\n",
        "              FROM castpertitles''').show() "
      ],
      "execution_count": null,
      "outputs": [
        {
          "output_type": "stream",
          "name": "stdout",
          "text": [
            "+-------------------+\n",
            "|           category|\n",
            "+-------------------+\n",
            "|            actress|\n",
            "|           producer|\n",
            "|             writer|\n",
            "|           composer|\n",
            "|           director|\n",
            "|               self|\n",
            "|              actor|\n",
            "|             editor|\n",
            "|    cinematographer|\n",
            "|      archive_sound|\n",
            "|production_designer|\n",
            "|    archive_footage|\n",
            "+-------------------+\n",
            "\n"
          ]
        }
      ]
    },
    {
      "cell_type": "code",
      "metadata": {
        "id": "GF_4NuDkrqOM"
      },
      "source": [
        "castpertitles = castpertitles.filter((castpertitles.category == 'actor')|(castpertitles.category == 'actress'))"
      ],
      "execution_count": null,
      "outputs": []
    },
    {
      "cell_type": "code",
      "metadata": {
        "id": "AfnDN1fMmzZ1",
        "colab": {
          "base_uri": "https://localhost:8080/"
        },
        "outputId": "99b1a31b-d6f7-46f0-ec9e-58eb1a607993"
      },
      "source": [
        "castpertitles = castpertitles.select(['tconst', 'nconst', 'category'])\n",
        "castpertitles = castpertitles.withColumnRenamed(\"nconst\", \"Id_actors\") \\\n",
        "    .withColumnRenamed(\"tconst\",\"Id_movie\") \\\n",
        "    .withColumnRenamed(\"category\",\"role\")\n",
        "castpertitles.printSchema()\n",
        "castpertitles.show(5)"
      ],
      "execution_count": null,
      "outputs": [
        {
          "output_type": "stream",
          "name": "stdout",
          "text": [
            "root\n",
            " |-- Id_movie: string (nullable = true)\n",
            " |-- Id_actors: string (nullable = true)\n",
            " |-- role: string (nullable = true)\n",
            "\n",
            "+---------+---------+-----+\n",
            "| Id_movie|Id_actors| role|\n",
            "+---------+---------+-----+\n",
            "|tt0000005|nm0443482|actor|\n",
            "|tt0000005|nm0653042|actor|\n",
            "|tt0000007|nm0179163|actor|\n",
            "|tt0000007|nm0183947|actor|\n",
            "|tt0000008|nm0653028|actor|\n",
            "+---------+---------+-----+\n",
            "only showing top 5 rows\n",
            "\n"
          ]
        }
      ]
    },
    {
      "cell_type": "code",
      "metadata": {
        "id": "ZkIOup0hk7z-",
        "colab": {
          "base_uri": "https://localhost:8080/"
        },
        "outputId": "4f4c436c-f1fc-40fb-e31a-e7599955a3a7"
      },
      "source": [
        "spark.sql('''SELECT count(distinct(castpertitles.nconst))\n",
        "              FROM castpertitles\n",
        "              WHERE (castpertitles.category = 'actor') OR (castpertitles.category = 'actress')''').show() #1.867.043 actors"
      ],
      "execution_count": null,
      "outputs": [
        {
          "output_type": "stream",
          "name": "stdout",
          "text": [
            "+----------------------+\n",
            "|count(DISTINCT nconst)|\n",
            "+----------------------+\n",
            "|               1867043|\n",
            "+----------------------+\n",
            "\n"
          ]
        }
      ]
    },
    {
      "cell_type": "code",
      "metadata": {
        "id": "91Fg0p8hlG0c"
      },
      "source": [
        "infotitlebasics = infotitlebasics.filter(infotitlebasics.titleType == 'movie')"
      ],
      "execution_count": null,
      "outputs": []
    },
    {
      "cell_type": "code",
      "metadata": {
        "id": "d8iA8hGElPES",
        "colab": {
          "base_uri": "https://localhost:8080/"
        },
        "outputId": "8f4aeb5c-b23c-4476-b617-c393dabd014a"
      },
      "source": [
        "infotitlebasics = infotitlebasics.select(['primaryTitle', 'tconst', 'titleType'])\n",
        "infotitlebasics = infotitlebasics.withColumnRenamed(\"primaryTitle\", \"Name_movie\") \\\n",
        "    .withColumnRenamed(\"tconst\",\"Id_movie\") \\\n",
        "    .withColumnRenamed(\"titleType\",\"movie\")\n",
        "infotitlebasics.printSchema()\n",
        "infotitlebasics.show(5)"
      ],
      "execution_count": null,
      "outputs": [
        {
          "output_type": "stream",
          "name": "stdout",
          "text": [
            "root\n",
            " |-- Name_movie: string (nullable = true)\n",
            " |-- Id_movie: string (nullable = true)\n",
            " |-- movie: string (nullable = true)\n",
            "\n",
            "+--------------------+---------+-----+\n",
            "|          Name_movie| Id_movie|movie|\n",
            "+--------------------+---------+-----+\n",
            "|          Miss Jerry|tt0000009|movie|\n",
            "|The Corbett-Fitzs...|tt0000147|movie|\n",
            "|Soldiers of the C...|tt0000335|movie|\n",
            "|            Bohemios|tt0000502|movie|\n",
            "|The Story of the ...|tt0000574|movie|\n",
            "+--------------------+---------+-----+\n",
            "only showing top 5 rows\n",
            "\n"
          ]
        }
      ]
    },
    {
      "cell_type": "markdown",
      "metadata": {
        "id": "tUf886LvXSWe"
      },
      "source": [
        "# **Dataset** for the Market Basket Analysis"
      ]
    },
    {
      "cell_type": "code",
      "metadata": {
        "id": "jjI9UA_YSwiE"
      },
      "source": [
        "infotitle = spark.sql('''SELECT infotitlebasics.tconst AS ID_movie, infotitlebasics.primaryTitle AS TITLE_movie, infotitlebasics.titleType AS category_movie\n",
        "                                FROM infotitlebasics \n",
        "                                WHERE 1=1 \n",
        "                                AND (infotitlebasics.titleType == 'movie')''')\n",
        "cast = spark.sql('''SELECT castpertitles.tconst as ID_movie, castpertitles.nconst AS ID_actors, castpertitles.category AS Role_in_movie\n",
        "                              FROM castpertitles \n",
        "                              WHERE 1=1 \n",
        "                              AND (castpertitles.category = 'actor') OR (castpertitles.category = 'actress')''')"
      ],
      "execution_count": null,
      "outputs": []
    },
    {
      "cell_type": "code",
      "metadata": {
        "id": "nXZJ3imjTcKn"
      },
      "source": [
        "infotitle.createOrReplaceTempView(\"infotitle\")\n",
        "cast.createOrReplaceTempView(\"cast\")"
      ],
      "execution_count": null,
      "outputs": []
    },
    {
      "cell_type": "code",
      "metadata": {
        "id": "Vy6W2hXaUG5T"
      },
      "source": [
        "data = spark.sql('''SELECT infotitle.ID_movie as ID_movie, infotitle.TITLE_movie as TITLE_movie, infotitle.category_movie as category_movie, cast.ID_actors as ID_actors, infofornames.primaryName as NAME_actors , cast.Role_in_movie as Role_in_movie\n",
        "                    FROM (infotitle INNER JOIN cast ON infotitle.ID_movie = cast.ID_movie)\n",
        "                    INNER JOIN infofornames on cast.ID_actors = infofornames.nconst''')"
      ],
      "execution_count": null,
      "outputs": []
    },
    {
      "cell_type": "code",
      "metadata": {
        "id": "QEpAwozvVE0E"
      },
      "source": [
        "data.createOrReplaceTempView(\"data\")"
      ],
      "execution_count": null,
      "outputs": []
    },
    {
      "cell_type": "code",
      "metadata": {
        "id": "BzFxY-3nVH4v",
        "colab": {
          "base_uri": "https://localhost:8080/"
        },
        "outputId": "ac1f77b1-f45e-48af-9522-ec0c7a0ef328"
      },
      "source": [
        "data.show(5)"
      ],
      "execution_count": null,
      "outputs": [
        {
          "output_type": "stream",
          "name": "stdout",
          "text": [
            "+---------+--------------------+--------------+---------+------------+-------------+\n",
            "| ID_movie|         TITLE_movie|category_movie|ID_actors| NAME_actors|Role_in_movie|\n",
            "+---------+--------------------+--------------+---------+------------+-------------+\n",
            "|tt0077621|         Goin' South|         movie|nm0000004|John Belushi|        actor|\n",
            "|tt0082801|           Neighbors|         movie|nm0000004|John Belushi|        actor|\n",
            "|tt0077975|National Lampoon'...|         movie|nm0000004|John Belushi|        actor|\n",
            "|tt0078723|                1941|         movie|nm0000004|John Belushi|        actor|\n",
            "|tt0080455|  The Blues Brothers|         movie|nm0000004|John Belushi|        actor|\n",
            "+---------+--------------------+--------------+---------+------------+-------------+\n",
            "only showing top 5 rows\n",
            "\n"
          ]
        }
      ]
    },
    {
      "cell_type": "code",
      "metadata": {
        "id": "m4EQwJ2_GVgo",
        "colab": {
          "base_uri": "https://localhost:8080/"
        },
        "outputId": "ce3db721-d366-4da6-de45-7d5db190bbc4"
      },
      "source": [
        "print(data.count()) #1.692.939 rows"
      ],
      "execution_count": null,
      "outputs": [
        {
          "output_type": "stream",
          "name": "stdout",
          "text": [
            "1692939\n"
          ]
        }
      ]
    },
    {
      "cell_type": "code",
      "metadata": {
        "id": "bVU1bzHyFbwa",
        "colab": {
          "base_uri": "https://localhost:8080/"
        },
        "outputId": "0fe624ed-286d-4375-9508-fd2cb9669ef2"
      },
      "source": [
        "spark.sql('''SELECT category_movie, COUNT(*)\n",
        "              FROM data\n",
        "              GROUP BY category_movie''').show() #Check: is there only movies?"
      ],
      "execution_count": null,
      "outputs": [
        {
          "output_type": "stream",
          "name": "stdout",
          "text": [
            "+--------------+--------+\n",
            "|category_movie|count(1)|\n",
            "+--------------+--------+\n",
            "|         movie| 1692939|\n",
            "+--------------+--------+\n",
            "\n"
          ]
        }
      ]
    },
    {
      "cell_type": "code",
      "metadata": {
        "id": "ogUOzHjjKSdg",
        "colab": {
          "base_uri": "https://localhost:8080/"
        },
        "outputId": "5d936880-0f5b-45aa-a670-72e328cbdf36"
      },
      "source": [
        "spark.sql('''SELECT Role_in_movie, COUNT(*)\n",
        "              FROM data\n",
        "              GROUP BY Role_in_movie''').show() #Check: how many actors and actress?"
      ],
      "execution_count": null,
      "outputs": [
        {
          "output_type": "stream",
          "name": "stdout",
          "text": [
            "+-------------+--------+\n",
            "|Role_in_movie|count(1)|\n",
            "+-------------+--------+\n",
            "|      actress|  637347|\n",
            "|        actor| 1055592|\n",
            "+-------------+--------+\n",
            "\n"
          ]
        }
      ]
    },
    {
      "cell_type": "markdown",
      "metadata": {
        "id": "LbsSCXeOf8ml"
      },
      "source": [
        "**Checking Null Values**"
      ]
    },
    {
      "cell_type": "code",
      "metadata": {
        "id": "wpt53xBpf6Ea",
        "colab": {
          "base_uri": "https://localhost:8080/"
        },
        "outputId": "01aeb87b-b998-42c2-9059-97dc097cd496"
      },
      "source": [
        "spark.sql('''SELECT COUNT(*) \n",
        "              FROM data\n",
        "              WHERE (ID_movie = '/N') OR (TITLE_movie = '/N') OR (ID_actors = '/N') OR (NAME_actors = '/N')''').show()"
      ],
      "execution_count": null,
      "outputs": [
        {
          "output_type": "stream",
          "name": "stdout",
          "text": [
            "+--------+\n",
            "|count(1)|\n",
            "+--------+\n",
            "|       0|\n",
            "+--------+\n",
            "\n"
          ]
        }
      ]
    },
    {
      "cell_type": "markdown",
      "metadata": {
        "id": "hgPqdS3SGn_e"
      },
      "source": [
        "**Question 1:** \n",
        "*Which is the number of actors or actress per film? How many movies have the same number of participants in the cast?*"
      ]
    },
    {
      "cell_type": "code",
      "metadata": {
        "id": "0i0nVWxAbUQm"
      },
      "source": [
        "groupbymovies = spark.sql('''SELECT ID_movie, TITLE_movie, COUNT(ID_actors) AS number_actors\n",
        "                    FROM data\n",
        "                    GROUP BY ID_movie, TITLE_movie\n",
        "                    ORDER BY number_actors DESC''')"
      ],
      "execution_count": null,
      "outputs": []
    },
    {
      "cell_type": "code",
      "metadata": {
        "id": "Nq7M3D4hibTj",
        "colab": {
          "base_uri": "https://localhost:8080/"
        },
        "outputId": "c263b919-063c-4fdd-bce1-1839098e4084"
      },
      "source": [
        "groupbymovies.show(20)"
      ],
      "execution_count": null,
      "outputs": [
        {
          "output_type": "stream",
          "name": "stdout",
          "text": [
            "+----------+--------------------+-------------+\n",
            "|  ID_movie|         TITLE_movie|number_actors|\n",
            "+----------+--------------------+-------------+\n",
            "| tt2543584|        One Day Here|           10|\n",
            "| tt0160071|Bottom Dweller 5:...|           10|\n",
            "| tt6735094|           Sathriyan|           10|\n",
            "| tt3813084|         Jalta Badan|           10|\n",
            "| tt7153466|sti xagi kai sti ...|           10|\n",
            "| tt6446750|    Khalik Fe Hallak|           10|\n",
            "| tt7128038|Exterminator. Fac...|           10|\n",
            "| tt7440016|           With Love|           10|\n",
            "| tt7618402|  Change of Gangster|           10|\n",
            "| tt7162426|    Giafka portokali|           10|\n",
            "| tt0280055|Putus sudah kasih...|           10|\n",
            "| tt6764552| Permanent Reminders|           10|\n",
            "| tt5789676|              Stab 7|           10|\n",
            "| tt5878312|CHIC: The One Yea...|           10|\n",
            "| tt0393168|Como agua pa' lon...|           10|\n",
            "| tt7909340|             Witness|           10|\n",
            "| tt1641918|      All or Nothing|           10|\n",
            "|tt11046112|                Haul|           10|\n",
            "| tt0422886|     Onyong Majikero|           10|\n",
            "| tt0349853|  The Myster General|           10|\n",
            "+----------+--------------------+-------------+\n",
            "only showing top 20 rows\n",
            "\n"
          ]
        }
      ]
    },
    {
      "cell_type": "code",
      "metadata": {
        "id": "--IHeUpgcAgb"
      },
      "source": [
        "from pyspark.sql import functions as f"
      ],
      "execution_count": null,
      "outputs": []
    },
    {
      "cell_type": "code",
      "metadata": {
        "id": "AtqVojACfBzD"
      },
      "source": [
        "moviesbycast = groupbymovies.groupBy('number_actors').agg(f.collect_set('ID_movie').alias('movies'))"
      ],
      "execution_count": null,
      "outputs": []
    },
    {
      "cell_type": "code",
      "metadata": {
        "id": "4pxv3zcV85wj",
        "colab": {
          "base_uri": "https://localhost:8080/"
        },
        "outputId": "0c64229b-1a6a-4a86-878b-202a9099eec1"
      },
      "source": [
        "moviesbycast.show()"
      ],
      "execution_count": null,
      "outputs": [
        {
          "output_type": "stream",
          "name": "stdout",
          "text": [
            "+-------------+--------------------+\n",
            "|number_actors|              movies|\n",
            "+-------------+--------------------+\n",
            "|           10|[tt7368790, tt361...|\n",
            "|            9|[tt5134236, tt352...|\n",
            "|            8|[tt5204858, tt039...|\n",
            "|            7|[tt0069205, tt007...|\n",
            "|            6|[tt5229070, tt019...|\n",
            "|            5|[tt1330991, tt032...|\n",
            "|            4|[tt8917774, tt154...|\n",
            "|            3|[tt11011054, tt23...|\n",
            "|            2|[tt9489044, tt341...|\n",
            "|            1|[tt0292703, tt933...|\n",
            "+-------------+--------------------+\n",
            "\n"
          ]
        }
      ]
    },
    {
      "cell_type": "code",
      "metadata": {
        "id": "bNHPriW6cElV"
      },
      "source": [
        "from pyspark.sql.functions import size, col"
      ],
      "execution_count": null,
      "outputs": []
    },
    {
      "cell_type": "code",
      "metadata": {
        "id": "1MSdr25L-BLr"
      },
      "source": [
        "moviesbycast = moviesbycast.withColumn(\"movies\",size(col(\"movies\")))"
      ],
      "execution_count": null,
      "outputs": []
    },
    {
      "cell_type": "code",
      "metadata": {
        "id": "PVMmnI1KU003",
        "colab": {
          "base_uri": "https://localhost:8080/"
        },
        "outputId": "1ad7aee3-e725-4cb1-b491-d98ddab877e3"
      },
      "source": [
        "moviesbycast.show()"
      ],
      "execution_count": null,
      "outputs": [
        {
          "output_type": "stream",
          "name": "stdout",
          "text": [
            "+-------------+------+\n",
            "|number_actors|movies|\n",
            "+-------------+------+\n",
            "|           10|  1159|\n",
            "|            9|  8017|\n",
            "|            8| 15239|\n",
            "|            7| 23617|\n",
            "|            6| 29313|\n",
            "|            5| 25577|\n",
            "|            4|221462|\n",
            "|            3| 22102|\n",
            "|            2| 18880|\n",
            "|            1| 28288|\n",
            "+-------------+------+\n",
            "\n"
          ]
        }
      ]
    },
    {
      "cell_type": "code",
      "metadata": {
        "id": "j8iTxvunTCU_",
        "colab": {
          "base_uri": "https://localhost:8080/",
          "height": 410
        },
        "outputId": "0a45cada-4804-4b70-e49b-6c1e2745cf03"
      },
      "source": [
        "sns.set_style(\"darkgrid\")\n",
        "sns.set(rc={\"figure.figsize\":(10,6)})\n",
        "ax = sns.barplot(x = \"number_actors\", y = \"movies\", data = moviesbycast.toPandas())\n",
        "ax.set(title = \"Number of movies by number of actors\", xlabel = \"Number of Actors or Actress\", ylabel = \"Amount of movies\"); "
      ],
      "execution_count": null,
      "outputs": [
        {
          "output_type": "display_data",
          "data": {
            "image/png": "[encoded data removed]",
            "text/plain": [
              "<Figure size 720x432 with 1 Axes>"
            ]
          },
          "metadata": {}
        }
      ]
    },
    {
      "cell_type": "markdown",
      "metadata": {
        "id": "ToKOLG-El47i"
      },
      "source": [
        "The dataset presents a huge amount of movies with four actors in the cast, while very little number of films with ten actors."
      ]
    },
    {
      "cell_type": "markdown",
      "metadata": {
        "id": "6VPmhmUD_eIX"
      },
      "source": [
        "**Question 2:**\n",
        "*Who are the TOP ten actors that played more movies?* "
      ]
    },
    {
      "cell_type": "code",
      "metadata": {
        "id": "lSftCbOIdVqE"
      },
      "source": [
        "groupbyactors = spark.sql('''SELECT NAME_actors, COUNT(ID_movie) AS number_movies\n",
        "                              FROM data\n",
        "                              GROUP BY NAME_actors\n",
        "                              ORDER BY number_movies DESC\n",
        "                              LIMIT 11''')"
      ],
      "execution_count": null,
      "outputs": []
    },
    {
      "cell_type": "code",
      "metadata": {
        "id": "3FKmwzPiBqWC",
        "colab": {
          "base_uri": "https://localhost:8080/",
          "height": 394
        },
        "outputId": "c5b702f6-6f14-42ac-d3c9-243ad70cf206"
      },
      "source": [
        "sns.set_style(\"darkgrid\")\n",
        "sns.set(rc={\"figure.figsize\":(25,6)})\n",
        "ax = sns.barplot(x = \"NAME_actors\", y = \"number_movies\", data = groupbyactors.toPandas())\n",
        "ax.set(title = \"Top Ten: Actors that played lot of movies\", xlabel = \"Name of Actor or Actress\", ylabel = \"Amount of movies done\");"
      ],
      "execution_count": null,
      "outputs": [
        {
          "output_type": "display_data",
          "data": {
            "image/png": "[encoded data removed]",
            "text/plain": [
              "<Figure size 1800x432 with 1 Axes>"
            ]
          },
          "metadata": {}
        }
      ]
    },
    {
      "cell_type": "markdown",
      "metadata": {
        "id": "0l7A7LXQi9vu"
      },
      "source": [
        "**Baskets for Market Basket Analysis**"
      ]
    },
    {
      "cell_type": "code",
      "metadata": {
        "id": "sxLofTyVSh4S"
      },
      "source": [
        "baskets_id= data.groupBy('ID_movie').agg(f.collect_set('ID_actors').alias('actors'))\n",
        "baskets_id.createOrReplaceTempView('baskets_id')"
      ],
      "execution_count": null,
      "outputs": []
    },
    {
      "cell_type": "code",
      "metadata": {
        "id": "HXRlHSoaTz9U",
        "colab": {
          "base_uri": "https://localhost:8080/"
        },
        "outputId": "018edfe9-437f-4cca-d9ee-355fcf883e70"
      },
      "source": [
        "baskets_id.show(5)"
      ],
      "execution_count": null,
      "outputs": [
        {
          "output_type": "stream",
          "name": "stdout",
          "text": [
            "+---------+--------------------+\n",
            "| ID_movie|              actors|\n",
            "+---------+--------------------+\n",
            "|tt0000335|[nm1012612, nm067...|\n",
            "|tt0000502|[nm0252720, nm021...|\n",
            "|tt0000630|         [nm0624446]|\n",
            "|tt0000676|[nm0140054, nm009...|\n",
            "|tt0000793|         [nm0691995]|\n",
            "+---------+--------------------+\n",
            "only showing top 5 rows\n",
            "\n"
          ]
        }
      ]
    },
    {
      "cell_type": "code",
      "metadata": {
        "id": "4qW8lVeLlWBH",
        "colab": {
          "base_uri": "https://localhost:8080/"
        },
        "outputId": "c508ca86-c894-4b6e-d957-7b42b804d76e"
      },
      "source": [
        "spark.sql('''SELECT COUNT('ID_movie')\n",
        "              FROM baskets_id ''').show() #393.654 movies"
      ],
      "execution_count": null,
      "outputs": [
        {
          "output_type": "stream",
          "name": "stdout",
          "text": [
            "+---------------+\n",
            "|count(ID_movie)|\n",
            "+---------------+\n",
            "|         393654|\n",
            "+---------------+\n",
            "\n"
          ]
        }
      ]
    },
    {
      "cell_type": "markdown",
      "metadata": {
        "id": "spFTjz4ucB35"
      },
      "source": [
        "# **FP growth**"
      ]
    },
    {
      "cell_type": "markdown",
      "metadata": {
        "id": "OH1LERDcK0JW"
      },
      "source": [
        "The FP-growth algorithm  - explored in the paper Han et al., Mining frequent patterns without candidate generation - as Apriori algorithm tries to calculate item frequencies and identify frequent items. Different from it with the FP-tree structure that encode transactions without generating candidate sets explicitly. "
      ]
    },
    {
      "cell_type": "code",
      "metadata": {
        "id": "IIlxBJN_Knpq"
      },
      "source": [
        "from pyspark.ml.fpm import FPGrowth"
      ],
      "execution_count": null,
      "outputs": []
    },
    {
      "cell_type": "code",
      "metadata": {
        "id": "xVzkfN2lKsKP"
      },
      "source": [
        "FP = FPGrowth(itemsCol=\"actors\", minSupport=0.00003)  #to be frequent more than 10 movies"
      ],
      "execution_count": null,
      "outputs": []
    },
    {
      "cell_type": "code",
      "metadata": {
        "id": "-njlQOTwKsTa"
      },
      "source": [
        "model = FP.fit(baskets_id) #it takes 3:40 minutes"
      ],
      "execution_count": null,
      "outputs": []
    },
    {
      "cell_type": "code",
      "metadata": {
        "id": "SvUM9DwEKsW6",
        "colab": {
          "base_uri": "https://localhost:8080/"
        },
        "outputId": "aa4e6956-2d71-4dc5-df00-885e28168a34"
      },
      "source": [
        "model.freqItemsets.show()\n",
        "items_set = model.freqItemsets"
      ],
      "execution_count": null,
      "outputs": [
        {
          "output_type": "stream",
          "name": "stderr",
          "text": [
            "spark-3.2.0-bin-hadoop2.7/python/pyspark/sql/context.py:127: FutureWarning: Deprecated in 3.0.0. Use SparkSession.builder.getOrCreate() instead.\n",
            "  FutureWarning\n"
          ]
        },
        {
          "output_type": "stream",
          "name": "stdout",
          "text": [
            "+-----------+----+\n",
            "|      items|freq|\n",
            "+-----------+----+\n",
            "|[nm1700980]|  20|\n",
            "|[nm0203836]|  46|\n",
            "|[nm0878546]|  31|\n",
            "|[nm0226773]|  33|\n",
            "|[nm0014122]|  20|\n",
            "|[nm1816849]|  51|\n",
            "|[nm1954434]|  36|\n",
            "|[nm1181575]|  15|\n",
            "|[nm5999008]|  12|\n",
            "|[nm2761937]|  13|\n",
            "|[nm0839293]|  15|\n",
            "|[nm1293253]|  15|\n",
            "|[nm1122888]|  12|\n",
            "|[nm0435919]|  15|\n",
            "|[nm2846617]|  16|\n",
            "|[nm3156758]|  13|\n",
            "|[nm0756956]|  12|\n",
            "|[nm0564691]|  14|\n",
            "|[nm0952104]|  23|\n",
            "|[nm0599973]|  20|\n",
            "+-----------+----+\n",
            "only showing top 20 rows\n",
            "\n"
          ]
        }
      ]
    },
    {
      "cell_type": "code",
      "metadata": {
        "id": "rKhQKZNtKsaV"
      },
      "source": [
        "items_set.createOrReplaceTempView(\"items_set\")"
      ],
      "execution_count": null,
      "outputs": []
    },
    {
      "cell_type": "code",
      "metadata": {
        "id": "ffqUeT3QLSxQ",
        "colab": {
          "base_uri": "https://localhost:8080/"
        },
        "outputId": "22f2ac4c-2798-4394-c96c-7d3b47c50d96"
      },
      "source": [
        "spark.sql('''SELECT items, freq\n",
        "              FROM items_set\n",
        "              WHERE size(items) = 1\n",
        "              ORDER BY freq DESC''').show(10, False)"
      ],
      "execution_count": null,
      "outputs": [
        {
          "output_type": "stream",
          "name": "stdout",
          "text": [
            "+-----------+----+\n",
            "|items      |freq|\n",
            "+-----------+----+\n",
            "|[nm0103977]|798 |\n",
            "|[nm0006982]|585 |\n",
            "|[nm0648803]|565 |\n",
            "|[nm0305182]|506 |\n",
            "|[nm0623427]|438 |\n",
            "|[nm0793813]|411 |\n",
            "|[nm0246703]|391 |\n",
            "|[nm0619107]|387 |\n",
            "|[nm0007123]|381 |\n",
            "|[nm7390393]|355 |\n",
            "+-----------+----+\n",
            "only showing top 10 rows\n",
            "\n"
          ]
        }
      ]
    },
    {
      "cell_type": "code",
      "metadata": {
        "id": "PqJJzn2Tgcvo",
        "colab": {
          "base_uri": "https://localhost:8080/"
        },
        "outputId": "e43264bc-4395-4e0e-c92b-d41f8564ce8a"
      },
      "source": [
        "spark.sql('''SELECT count(items)\n",
        "              FROM items_set\n",
        "              WHERE size(items) = 1''').show()"
      ],
      "execution_count": null,
      "outputs": [
        {
          "output_type": "stream",
          "name": "stdout",
          "text": [
            "+------------+\n",
            "|count(items)|\n",
            "+------------+\n",
            "|       24054|\n",
            "+------------+\n",
            "\n"
          ]
        }
      ]
    },
    {
      "cell_type": "code",
      "metadata": {
        "id": "2JkzPlfiLX2F",
        "colab": {
          "base_uri": "https://localhost:8080/"
        },
        "outputId": "7dd82a69-c55e-4f37-97ff-778f07075b20"
      },
      "source": [
        "singleactors = spark.sql('''SELECT items, freq\n",
        "                            FROM items_set\n",
        "                            WHERE size(items) = 1\n",
        "                            ORDER BY freq DESC\n",
        "                            LIMIT 10''')\n",
        "singleactors.printSchema()"
      ],
      "execution_count": null,
      "outputs": [
        {
          "output_type": "stream",
          "name": "stdout",
          "text": [
            "root\n",
            " |-- items: array (nullable = false)\n",
            " |    |-- element: string (containsNull = false)\n",
            " |-- freq: long (nullable = false)\n",
            "\n"
          ]
        }
      ]
    },
    {
      "cell_type": "code",
      "metadata": {
        "id": "uO2UVuwLLX5d"
      },
      "source": [
        "namesingleactors_data = spark.sql('''SELECT DISTINCT(ID_actors), NAME_actors\n",
        "                                    FROM data''')"
      ],
      "execution_count": null,
      "outputs": []
    },
    {
      "cell_type": "code",
      "metadata": {
        "id": "8of41ueQhKQf"
      },
      "source": [
        "from pyspark.sql.functions import concat_ws "
      ],
      "execution_count": null,
      "outputs": []
    },
    {
      "cell_type": "code",
      "metadata": {
        "id": "6MGua859MCiR",
        "colab": {
          "base_uri": "https://localhost:8080/"
        },
        "outputId": "81a81e2d-da80-484a-c93c-2f93d86d5827"
      },
      "source": [
        "singleactors = singleactors.withColumn(\"items\", concat_ws(\" \",col(\"items\")))\n",
        "singleactors.printSchema()\n",
        "singleactors.createOrReplaceTempView(\"singleactors\")"
      ],
      "execution_count": null,
      "outputs": [
        {
          "output_type": "stream",
          "name": "stdout",
          "text": [
            "root\n",
            " |-- items: string (nullable = false)\n",
            " |-- freq: long (nullable = false)\n",
            "\n"
          ]
        }
      ]
    },
    {
      "cell_type": "code",
      "metadata": {
        "id": "fbtCE3t2MCl8"
      },
      "source": [
        "namesingleactors_data.createOrReplaceTempView(\"namesingleactors_data\")"
      ],
      "execution_count": null,
      "outputs": []
    },
    {
      "cell_type": "code",
      "metadata": {
        "id": "35fFdVtsMCpk",
        "colab": {
          "base_uri": "https://localhost:8080/"
        },
        "outputId": "1ff82392-940b-41ae-abf5-29df1b9b9958"
      },
      "source": [
        "spark.sql('''SELECT namesingleactors_data.NAME_actors, singleactors.items, singleactors.freq\n",
        "              FROM singleactors INNER JOIN namesingleactors_data ON singleactors.items = namesingleactors_data.ID_actors\n",
        "              ORDER BY singleactors.freq DESC''').show()"
      ],
      "execution_count": null,
      "outputs": [
        {
          "output_type": "stream",
          "name": "stdout",
          "text": [
            "+----------------+---------+----+\n",
            "|     NAME_actors|    items|freq|\n",
            "+----------------+---------+----+\n",
            "|    Brahmanandam|nm0103977| 798|\n",
            "|     Adoor Bhasi|nm0006982| 585|\n",
            "|Matsunosuke Onoe|nm0648803| 565|\n",
            "|    Eddie Garcia|nm0305182| 506|\n",
            "|      Prem Nazir|nm0623427| 438|\n",
            "|    Sung-il Shin|nm0793813| 411|\n",
            "|    Paquito Diaz|nm0246703| 391|\n",
            "|Masayoshi Nogami|nm0619107| 387|\n",
            "|       Mammootty|nm0007123| 381|\n",
            "|  Aachi Manorama|nm7390393| 355|\n",
            "+----------------+---------+----+\n",
            "\n"
          ]
        }
      ]
    },
    {
      "cell_type": "markdown",
      "metadata": {
        "id": "2opfSXIJMUdP"
      },
      "source": [
        "The FP Growth algorithm was able to find the same name that we can see in the graph as solution of Question 2, in the same order."
      ]
    },
    {
      "cell_type": "code",
      "metadata": {
        "id": "O_jbrJYZMPrb",
        "colab": {
          "base_uri": "https://localhost:8080/"
        },
        "outputId": "98d186f4-91d1-4f19-dd21-9f36975cb26e"
      },
      "source": [
        "spark.sql('''SELECT items, freq\n",
        "              FROM items_set\n",
        "              WHERE size(items) = 2\n",
        "              ORDER BY freq DESC''').show(10, False)"
      ],
      "execution_count": null,
      "outputs": [
        {
          "output_type": "stream",
          "name": "stdout",
          "text": [
            "+----------------------+----+\n",
            "|items                 |freq|\n",
            "+----------------------+----+\n",
            "|[nm0623427, nm0006982]|237 |\n",
            "|[nm0046850, nm0006982]|169 |\n",
            "|[nm0419653, nm0006982]|162 |\n",
            "|[nm2082516, nm0648803]|147 |\n",
            "|[nm2373718, nm0648803]|126 |\n",
            "|[nm0619779, nm0006982]|122 |\n",
            "|[nm2373718, nm2082516]|113 |\n",
            "|[nm2077739, nm0648803]|113 |\n",
            "|[nm0419653, nm0046850]|109 |\n",
            "|[nm0659173, nm1006879]|103 |\n",
            "+----------------------+----+\n",
            "only showing top 10 rows\n",
            "\n"
          ]
        }
      ]
    },
    {
      "cell_type": "code",
      "metadata": {
        "id": "MlJf-FwLNKuU",
        "colab": {
          "base_uri": "https://localhost:8080/"
        },
        "outputId": "e927dc85-45f0-4364-80a3-a5ce6ba979ce"
      },
      "source": [
        "spark.sql('''SELECT count(items)\n",
        "              FROM items_set\n",
        "              WHERE size(items) = 2''').show()"
      ],
      "execution_count": null,
      "outputs": [
        {
          "output_type": "stream",
          "name": "stdout",
          "text": [
            "+------------+\n",
            "|count(items)|\n",
            "+------------+\n",
            "|        3443|\n",
            "+------------+\n",
            "\n"
          ]
        }
      ]
    },
    {
      "cell_type": "code",
      "metadata": {
        "id": "rkMZ0XdsMP4n"
      },
      "source": [
        "pairsactors = spark.sql('''SELECT items, freq\n",
        "                            FROM items_set\n",
        "                            WHERE size(items) = 2\n",
        "                            ORDER BY freq DESC\n",
        "                            LIMIT 10''')"
      ],
      "execution_count": null,
      "outputs": []
    },
    {
      "cell_type": "code",
      "metadata": {
        "id": "A4YitQ9OcMAz"
      },
      "source": [
        "from pyspark.sql.functions import explode"
      ],
      "execution_count": null,
      "outputs": []
    },
    {
      "cell_type": "code",
      "metadata": {
        "id": "8TDmHx-ZKsdg"
      },
      "source": [
        "pairsactors = pairsactors.select(explode(pairsactors.items).alias(\"items\"),\"freq\")"
      ],
      "execution_count": null,
      "outputs": []
    },
    {
      "cell_type": "code",
      "metadata": {
        "id": "RGPnlsdGMtSv",
        "colab": {
          "base_uri": "https://localhost:8080/"
        },
        "outputId": "2472b3ea-3858-4729-bec1-9b8ec613e3d4"
      },
      "source": [
        "pairsactors = pairsactors.withColumn(\"items\", concat_ws(\" \", col(\"items\")))\n",
        "pairsactors.createOrReplaceTempView(\"pairsactors\")\n",
        "pairsactors.show()"
      ],
      "execution_count": null,
      "outputs": [
        {
          "output_type": "stream",
          "name": "stdout",
          "text": [
            "+---------+----+\n",
            "|    items|freq|\n",
            "+---------+----+\n",
            "|nm0623427| 237|\n",
            "|nm0006982| 237|\n",
            "|nm0046850| 169|\n",
            "|nm0006982| 169|\n",
            "|nm0419653| 162|\n",
            "|nm0006982| 162|\n",
            "|nm2082516| 147|\n",
            "|nm0648803| 147|\n",
            "|nm2373718| 126|\n",
            "|nm0648803| 126|\n",
            "|nm0619779| 122|\n",
            "|nm0006982| 122|\n",
            "|nm2373718| 113|\n",
            "|nm2082516| 113|\n",
            "|nm2077739| 113|\n",
            "|nm0648803| 113|\n",
            "|nm0419653| 109|\n",
            "|nm0046850| 109|\n",
            "|nm0659173| 103|\n",
            "|nm1006879| 103|\n",
            "+---------+----+\n",
            "\n"
          ]
        }
      ]
    },
    {
      "cell_type": "code",
      "metadata": {
        "id": "wDdSWvVdMtXX",
        "colab": {
          "base_uri": "https://localhost:8080/"
        },
        "outputId": "36e0c260-f0c7-4273-f72b-d03f93de2f63"
      },
      "source": [
        "spark.sql('''SELECT namesingleactors_data.NAME_actors, pairsactors.items, pairsactors.freq\n",
        "              FROM pairsactors INNER JOIN namesingleactors_data ON pairsactors.items = namesingleactors_data.ID_actors\n",
        "              ORDER BY pairsactors.freq DESC''').show()"
      ],
      "execution_count": null,
      "outputs": [
        {
          "output_type": "stream",
          "name": "stdout",
          "text": [
            "+--------------------+---------+----+\n",
            "|         NAME_actors|    items|freq|\n",
            "+--------------------+---------+----+\n",
            "|         Adoor Bhasi|nm0006982| 237|\n",
            "|          Prem Nazir|nm0623427| 237|\n",
            "|             Bahadur|nm0046850| 169|\n",
            "|         Adoor Bhasi|nm0006982| 169|\n",
            "|         Adoor Bhasi|nm0006982| 162|\n",
            "|         Jayabharati|nm0419653| 162|\n",
            "|    Matsunosuke Onoe|nm0648803| 147|\n",
            "|        Kijaku Ôtani|nm2082516| 147|\n",
            "|    Kitsuraku Arashi|nm2373718| 126|\n",
            "|    Matsunosuke Onoe|nm0648803| 126|\n",
            "|         Adoor Bhasi|nm0006982| 122|\n",
            "|Thikkurisi Sukuma...|nm0619779| 122|\n",
            "|    Kitsuraku Arashi|nm2373718| 113|\n",
            "|   Suminojo Ichikawa|nm2077739| 113|\n",
            "|    Matsunosuke Onoe|nm0648803| 113|\n",
            "|        Kijaku Ôtani|nm2082516| 113|\n",
            "|         Jayabharati|nm0419653| 109|\n",
            "|             Bahadur|nm0046850| 109|\n",
            "|            Panchito|nm0659173| 103|\n",
            "|              Dolphy|nm1006879| 103|\n",
            "+--------------------+---------+----+\n",
            "\n"
          ]
        }
      ]
    },
    {
      "cell_type": "code",
      "metadata": {
        "id": "bPqdyfoFNGY2",
        "colab": {
          "base_uri": "https://localhost:8080/"
        },
        "outputId": "13dce9d9-68dc-4799-e2fe-f2144c501afb"
      },
      "source": [
        "spark.sql('''SELECT items, freq\n",
        "              FROM items_set\n",
        "              WHERE size(items) = 3\n",
        "              ORDER BY freq DESC''').show(10, False)"
      ],
      "execution_count": null,
      "outputs": [
        {
          "output_type": "stream",
          "name": "stdout",
          "text": [
            "+---------------------------------+----+\n",
            "|items                            |freq|\n",
            "+---------------------------------+----+\n",
            "|[nm2373718, nm2082516, nm0648803]|112 |\n",
            "|[nm2077739, nm2082516, nm0648803]|100 |\n",
            "|[nm2077739, nm2373718, nm0648803]|95  |\n",
            "|[nm2077739, nm2373718, nm2082516]|87  |\n",
            "|[nm1770187, nm2082516, nm0648803]|80  |\n",
            "|[nm0419653, nm0046850, nm0006982]|75  |\n",
            "|[nm0619779, nm0623427, nm0006982]|74  |\n",
            "|[nm1770187, nm2373718, nm0648803]|70  |\n",
            "|[nm2384746, nm1698868, nm2366585]|69  |\n",
            "|[nm2077739, nm1770187, nm0648803]|64  |\n",
            "+---------------------------------+----+\n",
            "only showing top 10 rows\n",
            "\n"
          ]
        }
      ]
    },
    {
      "cell_type": "code",
      "metadata": {
        "id": "U4mGPDgTTyV5",
        "colab": {
          "base_uri": "https://localhost:8080/"
        },
        "outputId": "9d648239-0f70-4dcd-f299-19721a82f82c"
      },
      "source": [
        "spark.sql('''SELECT count(items)\n",
        "              FROM items_set\n",
        "              WHERE size(items) = 3''').show()"
      ],
      "execution_count": null,
      "outputs": [
        {
          "output_type": "stream",
          "name": "stdout",
          "text": [
            "+------------+\n",
            "|count(items)|\n",
            "+------------+\n",
            "|         658|\n",
            "+------------+\n",
            "\n"
          ]
        }
      ]
    },
    {
      "cell_type": "code",
      "metadata": {
        "id": "9yCAVwQJUuoX"
      },
      "source": [
        "triplesactors = spark.sql('''SELECT items, freq\n",
        "              FROM items_set\n",
        "              WHERE size(items) = 3\n",
        "              ORDER BY freq DESC\n",
        "              LIMIT 10''')\n",
        "triplesactors = triplesactors.select(explode(triplesactors.items).alias(\"items\"),\"freq\")\n",
        "triplesactors = triplesactors.withColumn(\"items\", concat_ws(\" \", col(\"items\")))\n",
        "triplesactors.createOrReplaceTempView(\"triplesactors\")"
      ],
      "execution_count": null,
      "outputs": []
    },
    {
      "cell_type": "code",
      "metadata": {
        "id": "U83zMj00Vd81",
        "colab": {
          "base_uri": "https://localhost:8080/"
        },
        "outputId": "32b283c7-a124-4e96-c721-c682fe5ee738"
      },
      "source": [
        "spark.sql('''SELECT namesingleactors_data.NAME_actors, triplesactors.items, triplesactors.freq\n",
        "              FROM triplesactors INNER JOIN namesingleactors_data ON triplesactors.items = namesingleactors_data.ID_actors\n",
        "              ORDER BY triplesactors.freq DESC''').show()"
      ],
      "execution_count": null,
      "outputs": [
        {
          "output_type": "stream",
          "name": "stdout",
          "text": [
            "+--------------------+---------+----+\n",
            "|         NAME_actors|    items|freq|\n",
            "+--------------------+---------+----+\n",
            "|    Matsunosuke Onoe|nm0648803| 112|\n",
            "|    Kitsuraku Arashi|nm2373718| 112|\n",
            "|        Kijaku Ôtani|nm2082516| 112|\n",
            "|   Suminojo Ichikawa|nm2077739| 100|\n",
            "|        Kijaku Ôtani|nm2082516| 100|\n",
            "|    Matsunosuke Onoe|nm0648803| 100|\n",
            "|    Matsunosuke Onoe|nm0648803|  95|\n",
            "|    Kitsuraku Arashi|nm2373718|  95|\n",
            "|   Suminojo Ichikawa|nm2077739|  95|\n",
            "|        Kijaku Ôtani|nm2082516|  87|\n",
            "|    Kitsuraku Arashi|nm2373718|  87|\n",
            "|   Suminojo Ichikawa|nm2077739|  87|\n",
            "|    Matsunosuke Onoe|nm0648803|  80|\n",
            "| Sen'nosuke Nakamura|nm1770187|  80|\n",
            "|        Kijaku Ôtani|nm2082516|  80|\n",
            "|         Adoor Bhasi|nm0006982|  75|\n",
            "|             Bahadur|nm0046850|  75|\n",
            "|         Jayabharati|nm0419653|  75|\n",
            "|         Adoor Bhasi|nm0006982|  74|\n",
            "|Thikkurisi Sukuma...|nm0619779|  74|\n",
            "+--------------------+---------+----+\n",
            "only showing top 20 rows\n",
            "\n"
          ]
        }
      ]
    },
    {
      "cell_type": "code",
      "metadata": {
        "id": "k_S8klwIULgz",
        "colab": {
          "base_uri": "https://localhost:8080/"
        },
        "outputId": "1edb7bb5-2399-4129-f38d-66e0ff2c8716"
      },
      "source": [
        "spark.sql('''SELECT items, freq\n",
        "              FROM items_set\n",
        "              WHERE size(items) = 4\n",
        "              ORDER BY freq DESC''').show(10, False)"
      ],
      "execution_count": null,
      "outputs": [
        {
          "output_type": "stream",
          "name": "stdout",
          "text": [
            "+--------------------------------------------+----+\n",
            "|items                                       |freq|\n",
            "+--------------------------------------------+----+\n",
            "|[nm2077739, nm2373718, nm2082516, nm0648803]|86  |\n",
            "|[nm1770187, nm2373718, nm2082516, nm0648803]|62  |\n",
            "|[nm2077739, nm1770187, nm2082516, nm0648803]|54  |\n",
            "|[nm2077739, nm1770187, nm2373718, nm0648803]|51  |\n",
            "|[nm2367854, nm2384746, nm1698868, nm2366585]|51  |\n",
            "|[nm2373151, nm2373718, nm2082516, nm0648803]|48  |\n",
            "|[nm1283907, nm2373718, nm2082516, nm0648803]|46  |\n",
            "|[nm2077739, nm1770187, nm2373718, nm2082516]|45  |\n",
            "|[nm2373151, nm2077739, nm2082516, nm0648803]|45  |\n",
            "|[nm2373151, nm2077739, nm2373718, nm0648803]|44  |\n",
            "+--------------------------------------------+----+\n",
            "only showing top 10 rows\n",
            "\n"
          ]
        }
      ]
    },
    {
      "cell_type": "code",
      "metadata": {
        "id": "Ly9RrUP_UL6j",
        "colab": {
          "base_uri": "https://localhost:8080/"
        },
        "outputId": "662f2627-3284-46b2-d85e-50129de227fc"
      },
      "source": [
        "spark.sql('''SELECT count(items)\n",
        "              FROM items_set\n",
        "              WHERE size(items) = 4''').show()"
      ],
      "execution_count": null,
      "outputs": [
        {
          "output_type": "stream",
          "name": "stdout",
          "text": [
            "+------------+\n",
            "|count(items)|\n",
            "+------------+\n",
            "|         315|\n",
            "+------------+\n",
            "\n"
          ]
        }
      ]
    },
    {
      "cell_type": "code",
      "metadata": {
        "id": "1ykXATBVV8Tk"
      },
      "source": [
        "quadruplesactors = spark.sql('''SELECT items, freq\n",
        "              FROM items_set\n",
        "              WHERE size(items) = 4\n",
        "              ORDER BY freq DESC\n",
        "              LIMIT 10''')\n",
        "quadruplesactors = quadruplesactors.select(explode(quadruplesactors.items).alias(\"items\"),\"freq\")\n",
        "quadruplesactors = quadruplesactors.withColumn(\"items\", concat_ws(\" \", col(\"items\")))\n",
        "quadruplesactors.createOrReplaceTempView(\"quadruplesactors\")"
      ],
      "execution_count": null,
      "outputs": []
    },
    {
      "cell_type": "code",
      "metadata": {
        "id": "GGmUWRJ2Wac-",
        "colab": {
          "base_uri": "https://localhost:8080/"
        },
        "outputId": "78a80430-4561-47aa-e801-2942e223ac96"
      },
      "source": [
        "spark.sql('''SELECT namesingleactors_data.NAME_actors, quadruplesactors.items, quadruplesactors.freq\n",
        "              FROM quadruplesactors INNER JOIN namesingleactors_data ON quadruplesactors.items = namesingleactors_data.ID_actors\n",
        "              ORDER BY quadruplesactors.freq DESC''').show()"
      ],
      "execution_count": null,
      "outputs": [
        {
          "output_type": "stream",
          "name": "stdout",
          "text": [
            "+-------------------+---------+----+\n",
            "|        NAME_actors|    items|freq|\n",
            "+-------------------+---------+----+\n",
            "|       Kijaku Ôtani|nm2082516|  86|\n",
            "|  Suminojo Ichikawa|nm2077739|  86|\n",
            "|   Matsunosuke Onoe|nm0648803|  86|\n",
            "|   Kitsuraku Arashi|nm2373718|  86|\n",
            "|   Kitsuraku Arashi|nm2373718|  62|\n",
            "|   Matsunosuke Onoe|nm0648803|  62|\n",
            "|       Kijaku Ôtani|nm2082516|  62|\n",
            "|Sen'nosuke Nakamura|nm1770187|  62|\n",
            "|Sen'nosuke Nakamura|nm1770187|  54|\n",
            "|   Matsunosuke Onoe|nm0648803|  54|\n",
            "|  Suminojo Ichikawa|nm2077739|  54|\n",
            "|       Kijaku Ôtani|nm2082516|  54|\n",
            "|Sen'nosuke Nakamura|nm1770187|  51|\n",
            "|      Ritoku Arashi|nm2366585|  51|\n",
            "|        Hôshô Bandô|nm2384746|  51|\n",
            "|  Suminojo Ichikawa|nm2077739|  51|\n",
            "|   Matsunosuke Onoe|nm0648803|  51|\n",
            "|       Shôzô Arashi|nm2367854|  51|\n",
            "|    Enshô Jitsukawa|nm1698868|  51|\n",
            "|   Kitsuraku Arashi|nm2373718|  51|\n",
            "+-------------------+---------+----+\n",
            "only showing top 20 rows\n",
            "\n"
          ]
        }
      ]
    },
    {
      "cell_type": "code",
      "metadata": {
        "id": "Hw1jg69vNGqf",
        "colab": {
          "base_uri": "https://localhost:8080/"
        },
        "outputId": "06b89db1-7fc4-4cd8-b72b-2d6c2900bd99"
      },
      "source": [
        "model.associationRules.show()\n",
        "rules = model.associationRules"
      ],
      "execution_count": null,
      "outputs": [
        {
          "output_type": "stream",
          "name": "stderr",
          "text": [
            "spark-3.2.0-bin-hadoop2.7/python/pyspark/sql/context.py:127: FutureWarning: Deprecated in 3.0.0. Use SparkSession.builder.getOrCreate() instead.\n",
            "  FutureWarning\n"
          ]
        },
        {
          "output_type": "stream",
          "name": "stdout",
          "text": [
            "+--------------------+-----------+------------------+------------------+--------------------+\n",
            "|          antecedent| consequent|        confidence|              lift|             support|\n",
            "+--------------------+-----------+------------------+------------------+--------------------+\n",
            "|[nm0931054, nm041...|[nm0001889]|               0.8|           9841.35|3.048362267371854...|\n",
            "|[nm1283907, nm064...|[nm2373718]|0.8909090909090909|2739.9213068181816|1.244747925843507...|\n",
            "|[nm1283907, nm064...|[nm2082516]|0.9272727272727272|2267.2336533032185|1.295553963633038E-4|\n",
            "|[nm0799982, nm080...|[nm0482121]|               1.0| 8946.681818181818|7.112845290534328E-5|\n",
            "|[nm2679281, nm029...|[nm2394215]|             0.875|3785.1346153846157|3.556422645267164E-5|\n",
            "|[nm2679281, nm029...|[nm0945427]|               1.0|1805.7522935779816|4.064483023162473E-5|\n",
            "|[nm4050725, nm167...|[nm0314775]|            0.9375|16775.028409090908|3.810452834214818E-5|\n",
            "|[nm4050725, nm167...|[nm2846621]|            0.9375| 19423.71710526316|3.810452834214818E-5|\n",
            "|         [nm3252391]|[nm3252185]|0.8571428571428571|28118.142857142855|3.048362267371854...|\n",
            "|[nm2077739, nm064...|[nm2373718]|0.8407079646017699|2585.5316648230087|2.413286795002718...|\n",
            "|[nm2077739, nm064...|[nm2082516]|0.8849557522123894| 2163.766283735503|2.540301889476545...|\n",
            "|         [nm0457112]|[nm0257951]|0.9230769230769231| 4910.444906444906|3.048362267371854...|\n",
            "|[nm0120381, nm081...|[nm0344655]|0.8421052631578947|10045.397129186604|4.064483023162473E-5|\n",
            "|[nm1283907, nm236...|[nm0648803]|               1.0| 696.7327433628318|4.826573590005436E-5|\n",
            "|[nm1283907, nm236...|[nm2082516]|0.8947368421052632|2187.6815952925795|4.318513212110127E-5|\n",
            "|         [nm0204068]|[nm0709315]|0.9473684210526315| 7171.834008097165|4.572543401057781...|\n",
            "|[nm2687024, nm242...|[nm0648803]|               1.0| 696.7327433628318|3.302392456319509E-5|\n",
            "|         [nm0909040]|[nm1259779]|0.8571428571428571| 9372.714285714286|7.620905668429636E-5|\n",
            "|         [nm0909040]|[nm0485226]|0.9142857142857143| 4863.678764478764|8.128966046324945E-5|\n",
            "|[nm2373151, nm242...|[nm0648803]|               1.0| 696.7327433628318|3.302392456319509E-5|\n",
            "+--------------------+-----------+------------------+------------------+--------------------+\n",
            "only showing top 20 rows\n",
            "\n"
          ]
        }
      ]
    },
    {
      "cell_type": "code",
      "metadata": {
        "id": "Zw2PoeFdNGvf",
        "colab": {
          "base_uri": "https://localhost:8080/"
        },
        "outputId": "5aff8491-f1c1-44ee-e380-501bf8000f79"
      },
      "source": [
        "rules.createOrReplaceTempView(\"rules\")\n",
        "rules.sort(rules.lift.desc()).show(10, False)\n",
        "descrules = rules.sort(rules.lift.desc())\n",
        "descrules.createOrReplaceTempView(\"descrules\")"
      ],
      "execution_count": null,
      "outputs": [
        {
          "output_type": "stream",
          "name": "stdout",
          "text": [
            "+--------------------------------------------+-----------+------------------+------------------+---------------------+\n",
            "|antecedent                                  |consequent |confidence        |lift              |support              |\n",
            "+--------------------------------------------+-----------+------------------+------------------+---------------------+\n",
            "|[nm0004310]                                 |[nm0002935]|1.0               |32804.5           |3.0483622673718545E-5|\n",
            "|[nm0002935]                                 |[nm0004310]|1.0               |32804.5           |3.0483622673718545E-5|\n",
            "|[nm6774606]                                 |[nm6774610]|1.0               |28118.142857142855|3.556422645267164E-5 |\n",
            "|[nm6774608, nm2811639, nm6774609, nm6774610]|[nm6774607]|1.0               |28118.142857142855|3.302392456319509E-5 |\n",
            "|[nm2811639, nm6774610]                      |[nm6774607]|1.0               |28118.142857142855|3.556422645267164E-5 |\n",
            "|[nm2811639, nm6774606]                      |[nm6774610]|1.0               |28118.142857142855|3.556422645267164E-5 |\n",
            "|[nm2811639, nm6774610]                      |[nm6774606]|1.0               |28118.142857142855|3.556422645267164E-5 |\n",
            "|[nm6774608, nm2811639, nm6774609, nm6774610]|[nm6774606]|1.0               |28118.142857142855|3.302392456319509E-5 |\n",
            "|[nm2811639, nm6774610]                      |[nm6774608]|0.9285714285714286|28118.142857142855|3.302392456319509E-5 |\n",
            "|[nm6774606]                                 |[nm2811639]|1.0               |28118.142857142855|3.556422645267164E-5 |\n",
            "+--------------------------------------------+-----------+------------------+------------------+---------------------+\n",
            "only showing top 10 rows\n",
            "\n"
          ]
        }
      ]
    },
    {
      "cell_type": "code",
      "metadata": {
        "id": "lFkPhtUoMtc2",
        "colab": {
          "base_uri": "https://localhost:8080/"
        },
        "outputId": "db610171-8a3d-42a9-810e-f3ba320b8555"
      },
      "source": [
        "firstrow_descrules = spark.sql('''SELECT *\n",
        "                                  FROM descrules\n",
        "                                  LIMIT 1''')\n",
        "firstrow_descrules.show(1,False)"
      ],
      "execution_count": null,
      "outputs": [
        {
          "output_type": "stream",
          "name": "stdout",
          "text": [
            "+-----------+-----------+----------+-------+---------------------+\n",
            "|antecedent |consequent |confidence|lift   |support              |\n",
            "+-----------+-----------+----------+-------+---------------------+\n",
            "|[nm0002935]|[nm0004310]|1.0       |32804.5|3.0483622673718545E-5|\n",
            "+-----------+-----------+----------+-------+---------------------+\n",
            "\n"
          ]
        }
      ]
    },
    {
      "cell_type": "code",
      "metadata": {
        "id": "6r11OLkqOjeb",
        "colab": {
          "base_uri": "https://localhost:8080/"
        },
        "outputId": "beffee30-de94-49ab-e3d6-3fe1dd3d101e"
      },
      "source": [
        "spark.sql('''SELECT namesingleactors_data.NAME_actors, namesingleactors_data.ID_actors\n",
        "              FROM namesingleactors_data\n",
        "              WHERE namesingleactors_data.ID_actors IN ('nm0002935', 'nm0004310')''').show()"
      ],
      "execution_count": null,
      "outputs": [
        {
          "output_type": "stream",
          "name": "stdout",
          "text": [
            "+-----------+---------+\n",
            "|NAME_actors|ID_actors|\n",
            "+-----------+---------+\n",
            "| Moe Howard|nm0002935|\n",
            "| Larry Fine|nm0004310|\n",
            "+-----------+---------+\n",
            "\n"
          ]
        }
      ]
    },
    {
      "cell_type": "code",
      "metadata": {
        "id": "CAJ4-NqIOmKk",
        "colab": {
          "base_uri": "https://localhost:8080/"
        },
        "outputId": "76b583f9-fc97-4c4c-9332-669e31f780fa"
      },
      "source": [
        "rules.sort(rules.lift.asc()).show(10, False)\n",
        "ascrules = rules.sort(rules.lift.asc())\n",
        "ascrules.createOrReplaceTempView(\"ascrules\")"
      ],
      "execution_count": null,
      "outputs": [
        {
          "output_type": "stream",
          "name": "stdout",
          "text": [
            "+---------------------------------+-----------+------------------+-----------------+---------------------+\n",
            "|antecedent                       |consequent |confidence        |lift             |support              |\n",
            "+---------------------------------+-----------+------------------+-----------------+---------------------+\n",
            "|[nm0648300, nm0619779, nm0623427]|[nm0006982]|0.8               |538.3302564102564|3.0483622673718545E-5|\n",
            "|[nm2133977, nm1588355]           |[nm0006982]|0.8               |538.3302564102564|3.0483622673718545E-5|\n",
            "|[nm0451005, nm1588355]           |[nm0006982]|0.8               |538.3302564102564|3.0483622673718545E-5|\n",
            "|[nm0024301, nm0623427]           |[nm0006982]|0.8181818181818182|550.565034965035 |4.5725434010577816E-5|\n",
            "|[nm1588355, nm0623427]           |[nm0006982]|0.8275862068965517|556.8933687002652|6.096724534743709E-5 |\n",
            "|[nm2414317, nm2369538, nm2077739]|[nm0648803]|0.8               |557.3861946902655|3.0483622673718545E-5|\n",
            "|[nm0619779, nm0046850, nm0623427]|[nm0006982]|0.8333333333333334|560.7606837606838|6.350754723691363E-5 |\n",
            "|[nm1770187]                      |[nm0648803]|0.8151260504201681|567.9250092957537|2.464092832792249E-4 |\n",
            "|[nm0080246, nm0623427]           |[nm0006982]|0.8444444444444444|568.2374928774929|9.653147180010872E-5 |\n",
            "|[nm4236498]                      |[nm0006982]|0.85              |571.9758974358974|4.318513212110127E-5 |\n",
            "+---------------------------------+-----------+------------------+-----------------+---------------------+\n",
            "only showing top 10 rows\n",
            "\n"
          ]
        }
      ]
    },
    {
      "cell_type": "markdown",
      "metadata": {
        "id": "PnSpKyNBAsuW"
      },
      "source": [
        "**FP Growth** with a **restrictive** **threshold**"
      ]
    },
    {
      "cell_type": "code",
      "metadata": {
        "id": "-ZsYyu86y5jw"
      },
      "source": [
        "FP_minsup = FPGrowth(itemsCol=\"actors\", minSupport=0.00033) #to be frequent 130 movies\n",
        "model_minsup = FP_minsup.fit(baskets_id) #it takes 3 min"
      ],
      "execution_count": null,
      "outputs": []
    },
    {
      "cell_type": "code",
      "metadata": {
        "id": "6hBMzcadArL9",
        "colab": {
          "base_uri": "https://localhost:8080/"
        },
        "outputId": "10e04dbe-6031-4ad1-f5f6-4f98a921899a"
      },
      "source": [
        "rules_minsup = model_minsup.associationRules\n",
        "rules_minsup.createOrReplaceTempView(\"rules_minsup\")\n",
        "rules_minsup.sort(rules_minsup.lift.desc()).show(20, False)"
      ],
      "execution_count": null,
      "outputs": [
        {
          "output_type": "stream",
          "name": "stderr",
          "text": [
            "spark-3.2.0-bin-hadoop2.7/python/pyspark/sql/context.py:127: FutureWarning: Deprecated in 3.0.0. Use SparkSession.builder.getOrCreate() instead.\n",
            "  FutureWarning\n"
          ]
        },
        {
          "output_type": "stream",
          "name": "stdout",
          "text": [
            "+-----------+-----------+------------------+-----------------+---------------------+\n",
            "|antecedent |consequent |confidence        |lift             |support              |\n",
            "+-----------+-----------+------------------+-----------------+---------------------+\n",
            "|[nm2082516]|[nm0648803]|0.9130434782608695|636.1472874182377|3.7342437775305217E-4|\n",
            "+-----------+-----------+------------------+-----------------+---------------------+\n",
            "\n"
          ]
        }
      ]
    },
    {
      "cell_type": "code",
      "metadata": {
        "id": "8BRf8tFXKISx",
        "colab": {
          "base_uri": "https://localhost:8080/"
        },
        "outputId": "b6f6d478-3c75-4fe3-c5e2-628fbaad2348"
      },
      "source": [
        "spark.sql('''SELECT namesingleactors_data.NAME_actors as FPgrowth_pair\n",
        "              FROM namesingleactors_data\n",
        "              WHERE namesingleactors_data.ID_actors IN ('nm2082516', 'nm0648803')''').show()"
      ],
      "execution_count": null,
      "outputs": [
        {
          "output_type": "stream",
          "name": "stdout",
          "text": [
            "+----------------+\n",
            "|   FPgrowth_pair|\n",
            "+----------------+\n",
            "|Matsunosuke Onoe|\n",
            "|    Kijaku Ôtani|\n",
            "+----------------+\n",
            "\n"
          ]
        }
      ]
    },
    {
      "cell_type": "markdown",
      "metadata": {
        "id": "B0ogBmCdV9Vc"
      },
      "source": [
        "# **Apriori Algorithm**\n"
      ]
    },
    {
      "cell_type": "code",
      "metadata": {
        "id": "fmtUbgIFgf7V"
      },
      "source": [
        "transactions = baskets_id.select('actors').rdd.flatMap(lambda x: x)"
      ],
      "execution_count": null,
      "outputs": []
    },
    {
      "cell_type": "code",
      "metadata": {
        "id": "5bk5jZOihagf",
        "colab": {
          "base_uri": "https://localhost:8080/"
        },
        "outputId": "82e4c091-056f-44c1-a2f6-4e22eb0a1a33"
      },
      "source": [
        "transactions.take(4)"
      ],
      "execution_count": null,
      "outputs": [
        {
          "output_type": "execute_result",
          "data": {
            "text/plain": [
              "[['nm1012612',\n",
              "  'nm0675260',\n",
              "  'nm1012621',\n",
              "  'nm1010955',\n",
              "  'nm0675239',\n",
              "  'nm1011210'],\n",
              " ['nm0252720', 'nm0215752'],\n",
              " ['nm0624446'],\n",
              " ['nm0140054', 'nm0097421']]"
            ]
          },
          "metadata": {},
          "execution_count": 92
        }
      ]
    },
    {
      "cell_type": "code",
      "metadata": {
        "id": "UWmhVJrWHNaA"
      },
      "source": [
        "list_flat =  transactions.flatMap(list) \n",
        "singleitem = list_flat.map(lambda item: (item , 1))"
      ],
      "execution_count": null,
      "outputs": []
    },
    {
      "cell_type": "code",
      "metadata": {
        "id": "UYMR3PyNHuZB",
        "colab": {
          "base_uri": "https://localhost:8080/"
        },
        "outputId": "7407c37f-75bb-43ee-9a6b-9158e9349fef"
      },
      "source": [
        "singleitem.take(2)"
      ],
      "execution_count": null,
      "outputs": [
        {
          "output_type": "execute_result",
          "data": {
            "text/plain": [
              "[('nm1012612', 1), ('nm0675260', 1)]"
            ]
          },
          "metadata": {},
          "execution_count": 94
        }
      ]
    },
    {
      "cell_type": "code",
      "metadata": {
        "id": "XE1f8Mg9INPf"
      },
      "source": [
        "def SumCount(x,y):\n",
        "    return x+y"
      ],
      "execution_count": null,
      "outputs": []
    },
    {
      "cell_type": "code",
      "metadata": {
        "id": "ZGNS4aOjGijN"
      },
      "source": [
        "support = singleitem.reduceByKey(SumCount)"
      ],
      "execution_count": null,
      "outputs": []
    },
    {
      "cell_type": "code",
      "metadata": {
        "id": "z84WVQmTJg-r",
        "colab": {
          "base_uri": "https://localhost:8080/"
        },
        "outputId": "c3a34204-95e7-4023-d0f6-c2a02398f125"
      },
      "source": [
        "support.take(2)"
      ],
      "execution_count": null,
      "outputs": [
        {
          "output_type": "execute_result",
          "data": {
            "text/plain": [
              "[('nm1012621', 1), ('nm1011210', 1)]"
            ]
          },
          "metadata": {},
          "execution_count": 97
        }
      ]
    },
    {
      "cell_type": "code",
      "metadata": {
        "id": "Uz8HwMzFJWTR"
      },
      "source": [
        "supports = support.map(lambda item: item[1])"
      ],
      "execution_count": null,
      "outputs": []
    },
    {
      "cell_type": "code",
      "metadata": {
        "id": "GVeU3XQ9JWX3",
        "colab": {
          "base_uri": "https://localhost:8080/"
        },
        "outputId": "fa1dd88f-744e-4a2f-d220-483356a75778"
      },
      "source": [
        "supports.take(2)"
      ],
      "execution_count": null,
      "outputs": [
        {
          "output_type": "execute_result",
          "data": {
            "text/plain": [
              "[1, 1]"
            ]
          },
          "metadata": {},
          "execution_count": 99
        }
      ]
    },
    {
      "cell_type": "code",
      "metadata": {
        "id": "2OQf8_Zz25G7"
      },
      "source": [
        "minSupport = 130"
      ],
      "execution_count": null,
      "outputs": []
    },
    {
      "cell_type": "code",
      "metadata": {
        "id": "qBXU868-JWem"
      },
      "source": [
        "support = support.filter(lambda item: item[1] >= minSupport )"
      ],
      "execution_count": null,
      "outputs": []
    },
    {
      "cell_type": "code",
      "metadata": {
        "id": "fYNch9gP3Ifr",
        "colab": {
          "base_uri": "https://localhost:8080/"
        },
        "outputId": "ca520472-6e95-41e3-fc99-88bd9664138a"
      },
      "source": [
        "support.take(2)"
      ],
      "execution_count": null,
      "outputs": [
        {
          "output_type": "execute_result",
          "data": {
            "text/plain": [
              "[('nm0225905', 151), ('nm0435229', 138)]"
            ]
          },
          "metadata": {},
          "execution_count": 102
        }
      ]
    },
    {
      "cell_type": "code",
      "metadata": {
        "id": "hgCMEeZiJWie"
      },
      "source": [
        "singlerdd = support.map(lambda item: ([item[0]] , item[1])) "
      ],
      "execution_count": null,
      "outputs": []
    },
    {
      "cell_type": "code",
      "metadata": {
        "id": "g-IbRrTLLBG3",
        "colab": {
          "base_uri": "https://localhost:8080/"
        },
        "outputId": "54811048-9991-4dce-9b35-5ad91fb514af"
      },
      "source": [
        "singlerdd.take(2)"
      ],
      "execution_count": null,
      "outputs": [
        {
          "output_type": "execute_result",
          "data": {
            "text/plain": [
              "[(['nm0225905'], 151), (['nm0435229'], 138)]"
            ]
          },
          "metadata": {},
          "execution_count": 104
        }
      ]
    },
    {
      "cell_type": "code",
      "metadata": {
        "id": "LWpvN5HDK6bD"
      },
      "source": [
        "frequent_actors = support.map(lambda item: (item[0]))"
      ],
      "execution_count": null,
      "outputs": []
    },
    {
      "cell_type": "code",
      "metadata": {
        "id": "vJ5OJNLOK6fd",
        "colab": {
          "base_uri": "https://localhost:8080/"
        },
        "outputId": "db31f962-54a9-4b27-f766-91a1636a65ca"
      },
      "source": [
        "frequent_actors.take(2)"
      ],
      "execution_count": null,
      "outputs": [
        {
          "output_type": "execute_result",
          "data": {
            "text/plain": [
              "['nm0225905', 'nm0435229']"
            ]
          },
          "metadata": {},
          "execution_count": 106
        }
      ]
    },
    {
      "cell_type": "code",
      "metadata": {
        "id": "4qujkpFlQL1s",
        "colab": {
          "base_uri": "https://localhost:8080/"
        },
        "outputId": "b3765d4c-9f6b-4a10-d38c-3ba5bbfe521f"
      },
      "source": [
        "columns = [\"actor\", \"frequent\"]\n",
        "candidates_actors = singlerdd.toDF(columns)\n",
        "candidates_actors.createOrReplaceTempView(\"candidates_actors\")\n",
        "\n",
        "spark.sql('''SELECT *\n",
        "              FROM candidates_actors\n",
        "              ORDER BY frequent DESC''').show(10, False)"
      ],
      "execution_count": null,
      "outputs": [
        {
          "output_type": "stream",
          "name": "stdout",
          "text": [
            "+-----------+--------+\n",
            "|actor      |frequent|\n",
            "+-----------+--------+\n",
            "|[nm0103977]|798     |\n",
            "|[nm0006982]|585     |\n",
            "|[nm0648803]|565     |\n",
            "|[nm0305182]|506     |\n",
            "|[nm0623427]|438     |\n",
            "|[nm0793813]|411     |\n",
            "|[nm0246703]|391     |\n",
            "|[nm0619107]|387     |\n",
            "|[nm0007123]|381     |\n",
            "|[nm7390393]|355     |\n",
            "+-----------+--------+\n",
            "only showing top 10 rows\n",
            "\n"
          ]
        }
      ]
    },
    {
      "cell_type": "code",
      "metadata": {
        "id": "DSWqQ5JaQRHH"
      },
      "source": [
        "candidates_actors = candidates_actors.withColumn(\"actor\", concat_ws(\" \",col(\"actor\")))\n",
        "candidates_actors.createOrReplaceTempView(\"candidates_actors\")"
      ],
      "execution_count": null,
      "outputs": []
    },
    {
      "cell_type": "code",
      "metadata": {
        "id": "wLCN6q33PlO9",
        "colab": {
          "base_uri": "https://localhost:8080/"
        },
        "outputId": "c72c2cf3-312d-47ed-f294-73a62cfda084"
      },
      "source": [
        "spark.sql('''SELECT namesingleactors_data.NAME_actors, candidates_actors.actor, candidates_actors.frequent\n",
        "              FROM candidates_actors INNER JOIN namesingleactors_data ON candidates_actors.actor = namesingleactors_data.ID_actors\n",
        "              ORDER BY candidates_actors.frequent DESC''').show()"
      ],
      "execution_count": null,
      "outputs": [
        {
          "output_type": "stream",
          "name": "stdout",
          "text": [
            "+------------------+---------+--------+\n",
            "|       NAME_actors|    actor|frequent|\n",
            "+------------------+---------+--------+\n",
            "|      Brahmanandam|nm0103977|     798|\n",
            "|       Adoor Bhasi|nm0006982|     585|\n",
            "|  Matsunosuke Onoe|nm0648803|     565|\n",
            "|      Eddie Garcia|nm0305182|     506|\n",
            "|        Prem Nazir|nm0623427|     438|\n",
            "|      Sung-il Shin|nm0793813|     411|\n",
            "|      Paquito Diaz|nm0246703|     391|\n",
            "|  Masayoshi Nogami|nm0619107|     387|\n",
            "|         Mammootty|nm0007123|     381|\n",
            "|    Aachi Manorama|nm7390393|     355|\n",
            "|           Bahadur|nm0046850|     348|\n",
            "|          Mohanlal|nm0482320|     344|\n",
            "|Mithun Chakraborty|nm0149822|     330|\n",
            "|   Shivaji Ganesan|nm0304262|     323|\n",
            "|       Sultan Rahi|nm0706691|     315|\n",
            "|            Nagesh|nm0619309|     313|\n",
            "|     Shakti Kapoor|nm0007106|     310|\n",
            "|       Pandharibai|nm0659250|     303|\n",
            "|         Tom Byron|nm0001000|     303|\n",
            "|       Jayabharati|nm0419653|     303|\n",
            "+------------------+---------+--------+\n",
            "only showing top 20 rows\n",
            "\n"
          ]
        }
      ]
    },
    {
      "cell_type": "markdown",
      "metadata": {
        "id": "hWtdRjnTf9Pn"
      },
      "source": [
        "The frequent single actors that Apriori find are the same that we found in FP growth, in the same order."
      ]
    },
    {
      "cell_type": "code",
      "metadata": {
        "id": "wmDBynOI3oKy",
        "colab": {
          "base_uri": "https://localhost:8080/"
        },
        "outputId": "efdabcd3-96fe-4072-c960-468e8bf748ff"
      },
      "source": [
        "print(frequent_actors.count()) "
      ],
      "execution_count": null,
      "outputs": [
        {
          "output_type": "stream",
          "name": "stdout",
          "text": [
            "324\n"
          ]
        }
      ]
    },
    {
      "cell_type": "code",
      "metadata": {
        "id": "5qm9AvuOMShy"
      },
      "source": [
        "import itertools"
      ],
      "execution_count": null,
      "outputs": []
    },
    {
      "cell_type": "code",
      "metadata": {
        "id": "gCt437j1K6mg"
      },
      "source": [
        " pairs_list = list(itertools.combinations(frequent_actors.toLocalIterator(),2))"
      ],
      "execution_count": null,
      "outputs": []
    },
    {
      "cell_type": "code",
      "metadata": {
        "id": "8uJmqO0n6nYr"
      },
      "source": [
        "def removef (rdd, list_items):\n",
        "  for item in list_items:\n",
        "    if set(list(item)).issubset(set(rdd)): \n",
        "      return((item, 1))"
      ],
      "execution_count": null,
      "outputs": []
    },
    {
      "cell_type": "code",
      "metadata": {
        "id": "HBLLcLfh7h7F"
      },
      "source": [
        "support_pairs = transactions.map(lambda x: removef(x, pairs_list)).filter(lambda x: x is not None)"
      ],
      "execution_count": null,
      "outputs": []
    },
    {
      "cell_type": "code",
      "metadata": {
        "id": "9R6dktABzefI",
        "colab": {
          "base_uri": "https://localhost:8080/"
        },
        "outputId": "1844fcd2-d2f6-4bd2-b299-187a8165c830"
      },
      "source": [
        "support_pairs.take(2)"
      ],
      "execution_count": null,
      "outputs": [
        {
          "output_type": "execute_result",
          "data": {
            "text/plain": [
              "[(('nm0392442', 'nm0369058'), 1), (('nm0392442', 'nm0001935'), 1)]"
            ]
          },
          "metadata": {},
          "execution_count": 115
        }
      ]
    },
    {
      "cell_type": "code",
      "metadata": {
        "id": "ov-UJGzXnW2K"
      },
      "source": [
        "sum_support_pairs= support_pairs.reduceByKey(SumCount)"
      ],
      "execution_count": null,
      "outputs": []
    },
    {
      "cell_type": "code",
      "metadata": {
        "id": "d62SMF2CMSsB"
      },
      "source": [
        "candidates_pair = sum_support_pairs.filter(lambda item: item[1] >= minSupport)"
      ],
      "execution_count": null,
      "outputs": []
    },
    {
      "cell_type": "code",
      "metadata": {
        "id": "idA-shWwAPZZ"
      },
      "source": [
        "candidates_pairs = candidates_pair.map(lambda item: ([item[0]] , item[1])) "
      ],
      "execution_count": null,
      "outputs": []
    },
    {
      "cell_type": "code",
      "metadata": {
        "id": "zDgNEljTApov",
        "colab": {
          "base_uri": "https://localhost:8080/"
        },
        "outputId": "16f1efa9-3203-44b6-c3fa-7144e87ba269"
      },
      "source": [
        "columnspairs = [\"pairs\", \"frequent\"]\n",
        "pairs = candidates_pairs.toDF(columnspairs)\n",
        "pairs.createOrReplaceTempView(\"pairs\")\n",
        "\n",
        "spark.sql('''SELECT *\n",
        "              FROM pairs\n",
        "              ORDER BY frequent DESC''').show(10, False) #it takes 4h "
      ],
      "execution_count": null,
      "outputs": [
        {
          "output_type": "stream",
          "name": "stdout",
          "text": [
            "+------------------------+--------+\n",
            "|pairs                   |frequent|\n",
            "+------------------------+--------+\n",
            "|[{nm2082516, nm0648803}]|146     |\n",
            "+------------------------+--------+\n",
            "\n"
          ]
        }
      ]
    },
    {
      "cell_type": "code",
      "metadata": {
        "id": "UPbNGjQ6phWy",
        "colab": {
          "base_uri": "https://localhost:8080/"
        },
        "outputId": "3c4d1799-1bc7-491a-cdaf-b83ed73b20a9"
      },
      "source": [
        "spark.sql('''SELECT namesingleactors_data.NAME_actors, namesingleactors_data.ID_actors\n",
        "              FROM namesingleactors_data \n",
        "              WHERE ID_actors in ('nm2082516','nm0648803')''').show()"
      ],
      "execution_count": null,
      "outputs": [
        {
          "output_type": "stream",
          "name": "stdout",
          "text": [
            "+----------------+---------+\n",
            "|     NAME_actors|ID_actors|\n",
            "+----------------+---------+\n",
            "|Matsunosuke Onoe|nm0648803|\n",
            "|    Kijaku Ôtani|nm2082516|\n",
            "+----------------+---------+\n",
            "\n"
          ]
        }
      ]
    },
    {
      "cell_type": "code",
      "metadata": {
        "id": "-iOaakzbxYIk",
        "colab": {
          "base_uri": "https://localhost:8080/"
        },
        "outputId": "214cbd2b-12bd-4452-ea8e-f026cad93cce"
      },
      "source": [
        "spark.sql('''SELECT candidates_actors.actor, candidates_actors.frequent\n",
        "              FROM candidates_actors\n",
        "              WHERE candidates_actors.actor in ('nm2082516','nm0648803') ''').show()"
      ],
      "execution_count": null,
      "outputs": [
        {
          "output_type": "stream",
          "name": "stdout",
          "text": [
            "+---------+--------+\n",
            "|    actor|frequent|\n",
            "+---------+--------+\n",
            "|nm2082516|     161|\n",
            "|nm0648803|     565|\n",
            "+---------+--------+\n",
            "\n"
          ]
        }
      ]
    },
    {
      "cell_type": "markdown",
      "metadata": {
        "id": "MnHrOhZgrS1W"
      },
      "source": [
        "**Confidence** and **Lift** of the Apriori frequent pair"
      ]
    },
    {
      "cell_type": "code",
      "metadata": {
        "id": "ws9gcm18p2Gy"
      },
      "source": [
        "Confidence_nm2082516_nm0648803 = round(146/161, 2)"
      ],
      "execution_count": null,
      "outputs": []
    },
    {
      "cell_type": "code",
      "metadata": {
        "id": "mdmBoR79s-0w",
        "colab": {
          "base_uri": "https://localhost:8080/"
        },
        "outputId": "4562af22-f1cd-457b-a359-788da8f69866"
      },
      "source": [
        "print(Confidence_nm2082516_nm0648803)"
      ],
      "execution_count": null,
      "outputs": [
        {
          "output_type": "stream",
          "name": "stdout",
          "text": [
            "0.91\n"
          ]
        }
      ]
    },
    {
      "cell_type": "code",
      "metadata": {
        "id": "HvDLwn5sq4vu",
        "colab": {
          "base_uri": "https://localhost:8080/"
        },
        "outputId": "0825145b-916a-40db-e5ea-c04be73a5f60"
      },
      "source": [
        "value = round((161*565)/393654, 2) \n",
        "lift_pair = round((146/value), 2)\n",
        "print(lift_pair)"
      ],
      "execution_count": null,
      "outputs": [
        {
          "output_type": "stream",
          "name": "stdout",
          "text": [
            "634.78\n"
          ]
        }
      ]
    },
    {
      "cell_type": "markdown",
      "metadata": {
        "id": "agJowLPNxSuh"
      },
      "source": [
        "**Check** on **results**"
      ]
    },
    {
      "cell_type": "code",
      "metadata": {
        "id": "jwog40GOxY31"
      },
      "source": [
        "movies_of_Matsunosuke_Onoe = spark.sql('''SELECT ID_movie, TITLE_movie\n",
        "                                FROM data\n",
        "                                WHERE (ID_actors = 'nm0648803')''') "
      ],
      "execution_count": null,
      "outputs": []
    },
    {
      "cell_type": "code",
      "metadata": {
        "id": "lng4-C2-0y8D"
      },
      "source": [
        "movies_of_Kijaku_Otani = spark.sql('''SELECT ID_movie, TITLE_movie\n",
        "                                FROM data\n",
        "                                WHERE (ID_actors = 'nm2082516')''') "
      ],
      "execution_count": null,
      "outputs": []
    },
    {
      "cell_type": "code",
      "metadata": {
        "id": "QCGrmjsj58LM"
      },
      "source": [
        "movies_of_Matsunosuke_Onoe.createOrReplaceTempView(\"movies_of_Matsunosuke_Onoe\")\n",
        "movies_of_Kijaku_Otani.createOrReplaceTempView(\"movies_of_Kijaku_Otani\")"
      ],
      "execution_count": null,
      "outputs": []
    },
    {
      "cell_type": "markdown",
      "metadata": {
        "id": "oBsPl7eO1xcN"
      },
      "source": [
        "Movies of the Frequent pair"
      ]
    },
    {
      "cell_type": "code",
      "metadata": {
        "id": "WLxuBKTv1OS-",
        "colab": {
          "base_uri": "https://localhost:8080/"
        },
        "outputId": "0dce1e3b-c657-46b9-ff35-13422510d750"
      },
      "source": [
        "spark.sql('''SELECT a.TITLE_movie\n",
        "              FROM movies_of_Matsunosuke_Onoe a INNER JOIN movies_of_Kijaku_Otani b on a.ID_movie = b.ID_movie''').show(15, False)"
      ],
      "execution_count": null,
      "outputs": [
        {
          "output_type": "stream",
          "name": "stdout",
          "text": [
            "+----------------------+\n",
            "|TITLE_movie           |\n",
            "+----------------------+\n",
            "|Nidaime jiraiya       |\n",
            "|Onigoroshi juzô       |\n",
            "|Gôsho Kingôro         |\n",
            "|Moyuru uzumaki sanbu  |\n",
            "|Araki Mataemon        |\n",
            "|Kantô shichinin otoko |\n",
            "|Chûshingura           |\n",
            "|Yakko no kôsan        |\n",
            "|Meitô takada matabei  |\n",
            "|Benten kozo           |\n",
            "|Go henge kikûmatsu    |\n",
            "|Yoshioka Kanefusa     |\n",
            "|Gôsho no Gorozô       |\n",
            "|Kana tehon chûsinghura|\n",
            "|Takenâka hanbei       |\n",
            "+----------------------+\n",
            "only showing top 15 rows\n",
            "\n"
          ]
        }
      ]
    },
    {
      "cell_type": "code",
      "metadata": {
        "id": "cR8TJr4n_hMN",
        "colab": {
          "base_uri": "https://localhost:8080/"
        },
        "outputId": "722285d9-5089-4bb5-b4e0-69bd23394bab"
      },
      "source": [
        "title_movies_frequentpair = spark.sql('''SELECT a.TITLE_movie\n",
        "                                        FROM movies_of_Matsunosuke_Onoe a INNER JOIN movies_of_Kijaku_Otani b on a.ID_movie = b.ID_movie''')\n",
        "title_movies_frequentpair.createOrReplaceTempView(\"title_movies_frequentpair\")\n",
        "spark.sql('''SELECT count(distinct(TITLE_movie))\n",
        "              FROM title_movies_frequentpair''').show()"
      ],
      "execution_count": null,
      "outputs": [
        {
          "output_type": "stream",
          "name": "stdout",
          "text": [
            "+---------------------------+\n",
            "|count(DISTINCT TITLE_movie)|\n",
            "+---------------------------+\n",
            "|                        146|\n",
            "+---------------------------+\n",
            "\n"
          ]
        }
      ]
    },
    {
      "cell_type": "code",
      "metadata": {
        "id": "jOWSgLRs7HSJ",
        "colab": {
          "base_uri": "https://localhost:8080/"
        },
        "outputId": "ac7e650e-35ba-49dc-a540-51fd95a69da6"
      },
      "source": [
        "spark.sql('''SELECT b.TITLE_movie, a.*\n",
        "              FROM infotitlebasics a INNER JOIN title_movies_frequentpair b on a.primaryTitle = b.TITLE_movie\n",
        "              WHERE (a.titleType == 'movie')''').show()"
      ],
      "execution_count": null,
      "outputs": [
        {
          "output_type": "stream",
          "name": "stdout",
          "text": [
            "+--------------------+---------+---------+--------------------+--------------------+-------+---------+-------+--------------+------+\n",
            "|         TITLE_movie|   tconst|titleType|        primaryTitle|       originalTitle|isAdult|startYear|endYear|runtimeMinutes|genres|\n",
            "+--------------------+---------+---------+--------------------+--------------------+-------+---------+-------+--------------+------+\n",
            "|       Yurei hannôjô|tt1068870|    movie|       Yurei hannôjô|       Yurei hannôjô|      0|     1917|     \\N|            \\N|    \\N|\n",
            "|         Nihon ginji|tt1095100|    movie|         Nihon ginji|         Nihon ginji|      0|     1918|     \\N|            \\N|    \\N|\n",
            "|     Natsume sentarô|tt1075367|    movie|     Natsume sentarô|     Natsume sentarô|      0|     1917|     \\N|            \\N|    \\N|\n",
            "|     Nichigetsû tarô|tt1066465|    movie|     Nichigetsû tarô|     Nichigetsû tarô|      0|     1916|     \\N|            \\N|    \\N|\n",
            "|    Kairiki shinkchi|tt1093834|    movie|    Kairiki shinkchi|    Kairiki shinkchi|      0|     1918|     \\N|            \\N|    \\N|\n",
            "|Sûrûga dainagôn t...|tt1075838|    movie|Sûrûga dainagôn t...|Sûrûga dainagôn t...|      0|     1917|     \\N|            \\N|    \\N|\n",
            "| Moyuru uzumaki gobu|tt1086867|    movie| Moyuru uzumaki gobu| Moyuru uzumaki gobu|      0|     1924|     \\N|            \\N|    \\N|\n",
            "|Kashûn toyamazaku...|tt1094644|    movie|Kashûn toyamazaku...|Kashûn toyamazaku...|      0|     1924|     \\N|            \\N|    \\N|\n",
            "|Kana tehon chûsin...|tt1089695|    movie|Kana tehon chûsin...|Kana tehon chûsin...|      0|     1917|     \\N|            \\N|    \\N|\n",
            "|Moyuru uzumaki sanbu|tt1085463|    movie|Moyuru uzumaki sanbu|Moyuru uzumaki sanbu|      0|     1924|     \\N|            \\N|    \\N|\n",
            "|Oyashirazû no ada...|tt1070834|    movie|Oyashirazû no ada...|Oyashirazû no ada...|      0|     1917|     \\N|            \\N|    \\N|\n",
            "|         Niôchô gôrô|tt1074996|    movie|         Niôchô gôrô|         Niôchô gôrô|      0|     1917|     \\N|            \\N|    \\N|\n",
            "|      Nagaî gênaburô|tt1106829|    movie|      Nagaî gênaburô|      Nagaî gênaburô|      0|     1918|     \\N|            \\N|    \\N|\n",
            "| Moyuru uzumaki nibu|tt1085462|    movie| Moyuru uzumaki nibu| Moyuru uzumaki nibu|      0|     1924|     \\N|            \\N|    \\N|\n",
            "|       Hôncho kôachi|tt1082842|    movie|       Hôncho kôachi|       Hôncho kôachi|      0|     1917|     \\N|            \\N|    \\N|\n",
            "|Gôketsu miyabe kû...|tt1081985|    movie|Gôketsu miyabe kû...|Gôketsu miyabe kû...|      0|     1917|     \\N|            \\N|    \\N|\n",
            "|       Daîja no ocho|tt1096877|    movie|       Daîja no ocho|       Daîja no ocho|      0|     1918|     \\N|            \\N|    \\N|\n",
            "|     Gôsho no Gorozô|tt1081986|    movie|     Gôsho no Gorozô|     Gôsho no Gorozô|      0|     1917|     \\N|            \\N|    \\N|\n",
            "|Mûsashiya tatsugo...|tt1106828|    movie|Mûsashiya tatsugo...|Mûsashiya tatsugo...|      0|     1918|     \\N|            \\N|    \\N|\n",
            "|       Ikaruga Heiji|tt1082001|    movie|       Ikaruga Heiji|       Ikaruga Heiji|      0|     1917|     \\N|            \\N|    \\N|\n",
            "+--------------------+---------+---------+--------------------+--------------------+-------+---------+-------+--------------+------+\n",
            "only showing top 20 rows\n",
            "\n"
          ]
        }
      ]
    }
  ]
}